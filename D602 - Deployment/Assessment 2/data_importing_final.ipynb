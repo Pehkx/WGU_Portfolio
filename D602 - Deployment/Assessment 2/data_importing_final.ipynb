{
 "cells": [
  {
   "cell_type": "code",
   "execution_count": 1,
   "id": "359a0e51-b966-478c-97f3-dd0bc888d0b1",
   "metadata": {},
   "outputs": [],
   "source": [
    "# Packages Used\n",
    "import pandas as pd #For manipulation of data and use of dataframes\n",
    "import os #For Directory management. To create an if/else loop to check if dvc is initialized"
   ]
  },
  {
   "cell_type": "code",
   "execution_count": 2,
   "id": "553a110c-c44b-4845-a5fe-1a2069b3518b",
   "metadata": {},
   "outputs": [],
   "source": [
    "# B: Writing a script to import and format the data file\n",
    "# Importing the Raw Data File\n",
    "file_path = \"C:/Users/bconn/OneDrive/Documents/WGUCoursework/Data/Miami_Flight_Data.csv\"\n",
    "data = pd.read_csv(file_path)\n",
    "df = data.copy()"
   ]
  },
  {
   "cell_type": "code",
   "execution_count": 3,
   "id": "a5466368-0a25-47a8-bc8d-7a46a7419549",
   "metadata": {},
   "outputs": [
    {
     "name": "stdout",
     "output_type": "stream",
     "text": [
      "<class 'pandas.core.frame.DataFrame'>\n",
      "RangeIndex: 91857 entries, 0 to 91856\n",
      "Data columns (total 13 columns):\n",
      " #   Column             Non-Null Count  Dtype  \n",
      "---  ------             --------------  -----  \n",
      " 0   YEAR               91857 non-null  int64  \n",
      " 1   MONTH              91857 non-null  int64  \n",
      " 2   DAY_OF_MONTH       91857 non-null  int64  \n",
      " 3   DAY_OF_WEEK        91857 non-null  int64  \n",
      " 4   ORIGIN_AIRPORT_ID  91857 non-null  int64  \n",
      " 5   DEST_AIRPORT_ID    91857 non-null  int64  \n",
      " 6   CRS_DEP_TIME       91857 non-null  int64  \n",
      " 7   DEP_TIME           88688 non-null  float64\n",
      " 8   DEP_DELAY          88686 non-null  float64\n",
      " 9   CRS_ARR_TIME       91857 non-null  int64  \n",
      " 10  ARR_TIME           88571 non-null  float64\n",
      " 11  ARR_DELAY          88165 non-null  float64\n",
      " 12  ARR_DELAY_NEW      88165 non-null  float64\n",
      "dtypes: float64(5), int64(8)\n",
      "memory usage: 9.1 MB\n"
     ]
    }
   ],
   "source": [
    "# Initial profiling of data\n",
    "df.info()"
   ]
  },
  {
   "cell_type": "code",
   "execution_count": 4,
   "id": "f2e2fce4-e68d-4d90-a7f8-d258398ce4a3",
   "metadata": {},
   "outputs": [
    {
     "name": "stdout",
     "output_type": "stream",
     "text": [
      "<class 'pandas.core.frame.DataFrame'>\n",
      "RangeIndex: 91857 entries, 0 to 91856\n",
      "Data columns (total 12 columns):\n",
      " #   Column             Non-Null Count  Dtype  \n",
      "---  ------             --------------  -----  \n",
      " 0   YEAR               91857 non-null  int64  \n",
      " 1   MONTH              91857 non-null  int64  \n",
      " 2   DAY_OF_MONTH       91857 non-null  int64  \n",
      " 3   DAY_OF_WEEK        91857 non-null  int64  \n",
      " 4   ORIGIN_AIRPORT_ID  91857 non-null  int64  \n",
      " 5   DEST_AIRPORT_ID    91857 non-null  int64  \n",
      " 6   CRS_DEP_TIME       91857 non-null  int64  \n",
      " 7   DEP_TIME           88688 non-null  float64\n",
      " 8   DEP_DELAY          88686 non-null  float64\n",
      " 9   CRS_ARR_TIME       91857 non-null  int64  \n",
      " 10  ARR_TIME           88571 non-null  float64\n",
      " 11  ARR_DELAY          88165 non-null  float64\n",
      "dtypes: float64(4), int64(8)\n",
      "memory usage: 8.4 MB\n",
      "None\n"
     ]
    }
   ],
   "source": [
    "# Trimming down to required columns\n",
    "df_trimmed = df[['YEAR', 'MONTH', 'DAY_OF_MONTH', 'DAY_OF_WEEK', 'ORIGIN_AIRPORT_ID', 'DEST_AIRPORT_ID', 'CRS_DEP_TIME', \n",
    "                 'DEP_TIME', 'DEP_DELAY', 'CRS_ARR_TIME', 'ARR_TIME', 'ARR_DELAY']]\n",
    "print(df_trimmed.info())"
   ]
  },
  {
   "cell_type": "code",
   "execution_count": 5,
   "id": "a168446b-eef0-4654-b411-62817c63c3f7",
   "metadata": {},
   "outputs": [
    {
     "name": "stdout",
     "output_type": "stream",
     "text": [
      "<class 'pandas.core.frame.DataFrame'>\n",
      "RangeIndex: 91857 entries, 0 to 91856\n",
      "Data columns (total 12 columns):\n",
      " #   Column               Non-Null Count  Dtype  \n",
      "---  ------               --------------  -----  \n",
      " 0   YEAR                 91857 non-null  int64  \n",
      " 1   MONTH                91857 non-null  int64  \n",
      " 2   DAY                  91857 non-null  int64  \n",
      " 3   DAY_OF_WEEK          91857 non-null  int64  \n",
      " 4   ORG_AIRPORT          91857 non-null  int64  \n",
      " 5   DEST_AIRPORT         91857 non-null  int64  \n",
      " 6   SCHEDULED_DEPARTURE  91857 non-null  int64  \n",
      " 7   DEPARTURE_TIME       88688 non-null  float64\n",
      " 8   DEPARTURE_DELAY      88686 non-null  float64\n",
      " 9   SCHEDULED_ARRIVAL    91857 non-null  int64  \n",
      " 10  ARRIVAL_TIME         88571 non-null  float64\n",
      " 11  ARRIVAL_DELAY        88165 non-null  float64\n",
      "dtypes: float64(4), int64(8)\n",
      "memory usage: 8.4 MB\n",
      "None\n"
     ]
    }
   ],
   "source": [
    "# Renaming the columns to the required format for MLFlow\n",
    "renamed_headers = ['YEAR', 'MONTH', 'DAY', 'DAY_OF_WEEK', 'ORG_AIRPORT', 'DEST_AIRPORT', 'SCHEDULED_DEPARTURE', 'DEPARTURE_TIME', \n",
    "                   'DEPARTURE_DELAY', 'SCHEDULED_ARRIVAL', 'ARRIVAL_TIME', 'ARRIVAL_DELAY']\n",
    "df_trimmed.columns = renamed_headers\n",
    "print(df_trimmed.info())"
   ]
  },
  {
   "cell_type": "code",
   "execution_count": 6,
   "id": "2e0f5a8d-88d9-4a23-b697-ea6601215350",
   "metadata": {},
   "outputs": [
    {
     "name": "stdout",
     "output_type": "stream",
     "text": [
      "DVC already initialized\n"
     ]
    }
   ],
   "source": [
    "# Setting up DVC \n",
    "\n",
    "# Creating a loop to check if dvc is already initialized\n",
    "if not os.path.exists(\".dvc\"):\n",
    "    os.system(\"dvc init --no-scm\")\n",
    "else:\n",
    "    print (\"DVC already initialized\")"
   ]
  },
  {
   "cell_type": "code",
   "execution_count": 7,
   "id": "94327a71-4ff1-4fc5-afb1-f0487d853611",
   "metadata": {},
   "outputs": [],
   "source": [
    "# Exporting formatted dataframe to a CSV file\n",
    "df_trimmed.to_csv(\"formatted_data.csv\", index=False)"
   ]
  },
  {
   "cell_type": "code",
   "execution_count": 8,
   "id": "7cc7e691-6b2b-4c55-abd3-f30b9a677d49",
   "metadata": {},
   "outputs": [
    {
     "data": {
      "text/plain": [
       "0"
      ]
     },
     "execution_count": 8,
     "metadata": {},
     "output_type": "execute_result"
    }
   ],
   "source": [
    "# Creating DVC data file\n",
    "os.system(\"dvc add formatted_data.csv\")\n"
   ]
  }
 ],
 "metadata": {
  "kernelspec": {
   "display_name": "Python 3 (ipykernel)",
   "language": "python",
   "name": "python3"
  },
  "language_info": {
   "codemirror_mode": {
    "name": "ipython",
    "version": 3
   },
   "file_extension": ".py",
   "mimetype": "text/x-python",
   "name": "python",
   "nbconvert_exporter": "python",
   "pygments_lexer": "ipython3",
   "version": "3.12.3"
  }
 },
 "nbformat": 4,
 "nbformat_minor": 5
}
