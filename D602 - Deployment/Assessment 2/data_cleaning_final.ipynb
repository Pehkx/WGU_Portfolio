{
 "cells": [
  {
   "cell_type": "code",
   "execution_count": 1,
   "id": "359a0e51-b966-478c-97f3-dd0bc888d0b1",
   "metadata": {},
   "outputs": [],
   "source": [
    "# Packages Used\n",
    "import pandas as pd #For manipulation of data and use of dataframes"
   ]
  },
  {
   "cell_type": "code",
   "execution_count": 2,
   "id": "cb7ce7f4-dc53-454c-9713-4672c0d572be",
   "metadata": {},
   "outputs": [],
   "source": [
    "# C: Writing a script to filter and clean the data file\n",
    "# Importing the Formatted Data File\n",
    "file_path = \"C:/Users/bconn/OneDrive/Documents/WGUCoursework/Data/formatted_data.csv\"\n",
    "data = pd.read_csv(file_path)\n",
    "df_trimmed = data.copy()"
   ]
  },
  {
   "cell_type": "code",
   "execution_count": 3,
   "id": "51cb5ab7-5f07-49be-a741-42e765110e76",
   "metadata": {},
   "outputs": [],
   "source": [
    "# Selecting only the Miami Airport from departing flights\n",
    "df_filtered = df_trimmed[df_trimmed[\"ORG_AIRPORT\"] == 13303].copy()"
   ]
  },
  {
   "cell_type": "code",
   "execution_count": 21,
   "id": "94c34453-47bd-4889-b43f-332591098255",
   "metadata": {},
   "outputs": [
    {
     "name": "stdout",
     "output_type": "stream",
     "text": [
      "<class 'pandas.core.frame.DataFrame'>\n",
      "Index: 8081 entries, 2030 to 91139\n",
      "Data columns (total 12 columns):\n",
      " #   Column               Non-Null Count  Dtype \n",
      "---  ------               --------------  ----- \n",
      " 0   YEAR                 8081 non-null   int64 \n",
      " 1   MONTH                8081 non-null   int64 \n",
      " 2   DAY                  8081 non-null   int64 \n",
      " 3   DAY_OF_WEEK          8081 non-null   int64 \n",
      " 4   ORG_AIRPORT          8081 non-null   string\n",
      " 5   DEST_AIRPORT         8081 non-null   string\n",
      " 6   SCHEDULED_DEPARTURE  8081 non-null   int64 \n",
      " 7   DEPARTURE_TIME       8081 non-null   int64 \n",
      " 8   DEPARTURE_DELAY      8081 non-null   int64 \n",
      " 9   SCHEDULED_ARRIVAL    8081 non-null   int64 \n",
      " 10  ARRIVAL_TIME         8081 non-null   int64 \n",
      " 11  ARRIVAL_DELAY        8081 non-null   int64 \n",
      "dtypes: int64(10), string(2)\n",
      "memory usage: 820.7 KB\n",
      "\n",
      "\n",
      "ORG_AIRPORT\n",
      "13303    8081\n",
      "Name: count, dtype: Int64\n"
     ]
    }
   ],
   "source": [
    "# Confirming filtering worked\n",
    "df_filtered.info()\n",
    "print('\\n') #adding a space\n",
    "print(df_filtered['ORG_AIRPORT'].value_counts())\n",
    "## Confirmed only 13303 (Miami Airport Code) records remain"
   ]
  },
  {
   "cell_type": "code",
   "execution_count": 5,
   "id": "dad25750-1a83-4988-829e-e6a36650b835",
   "metadata": {},
   "outputs": [
    {
     "name": "stdout",
     "output_type": "stream",
     "text": [
      "YEAR                     0\n",
      "MONTH                    0\n",
      "DAY                      0\n",
      "DAY_OF_WEEK              0\n",
      "ORG_AIRPORT              0\n",
      "DEST_AIRPORT             0\n",
      "SCHEDULED_DEPARTURE      0\n",
      "DEPARTURE_TIME         337\n",
      "DEPARTURE_DELAY        337\n",
      "SCHEDULED_ARRIVAL        0\n",
      "ARRIVAL_TIME           355\n",
      "ARRIVAL_DELAY          378\n",
      "dtype: int64\n"
     ]
    }
   ],
   "source": [
    "# Identifying counts of missing values\n",
    "print(df_filtered.isnull().sum())"
   ]
  },
  {
   "cell_type": "code",
   "execution_count": 6,
   "id": "f05733e1-5edf-4c3f-88f3-d56ec10bfddf",
   "metadata": {},
   "outputs": [
    {
     "name": "stdout",
     "output_type": "stream",
     "text": [
      "YEAR                   0\n",
      "MONTH                  0\n",
      "DAY                    0\n",
      "DAY_OF_WEEK            0\n",
      "ORG_AIRPORT            0\n",
      "DEST_AIRPORT           0\n",
      "SCHEDULED_DEPARTURE    0\n",
      "DEPARTURE_TIME         0\n",
      "DEPARTURE_DELAY        0\n",
      "SCHEDULED_ARRIVAL      0\n",
      "ARRIVAL_TIME           0\n",
      "ARRIVAL_DELAY          0\n",
      "dtype: int64\n"
     ]
    }
   ],
   "source": [
    "# Dropping rows with missing values under the assumption the flights did not occur\n",
    "df_filtered.dropna(subset=['DEPARTURE_TIME', 'DEPARTURE_DELAY', 'ARRIVAL_TIME', 'ARRIVAL_DELAY'], inplace=True)\n",
    "print(df_filtered.isnull().sum())\n",
    "## Confirming no more null values"
   ]
  },
  {
   "cell_type": "code",
   "execution_count": 7,
   "id": "7372eacb-0a7c-425f-8ac2-00dd09dc92c6",
   "metadata": {},
   "outputs": [
    {
     "name": "stdout",
     "output_type": "stream",
     "text": [
      "<class 'pandas.core.frame.DataFrame'>\n",
      "Index: 8081 entries, 2030 to 91139\n",
      "Data columns (total 12 columns):\n",
      " #   Column               Non-Null Count  Dtype \n",
      "---  ------               --------------  ----- \n",
      " 0   YEAR                 8081 non-null   int64 \n",
      " 1   MONTH                8081 non-null   int64 \n",
      " 2   DAY                  8081 non-null   int64 \n",
      " 3   DAY_OF_WEEK          8081 non-null   int64 \n",
      " 4   ORG_AIRPORT          8081 non-null   string\n",
      " 5   DEST_AIRPORT         8081 non-null   string\n",
      " 6   SCHEDULED_DEPARTURE  8081 non-null   int64 \n",
      " 7   DEPARTURE_TIME       8081 non-null   int64 \n",
      " 8   DEPARTURE_DELAY      8081 non-null   int64 \n",
      " 9   SCHEDULED_ARRIVAL    8081 non-null   int64 \n",
      " 10  ARRIVAL_TIME         8081 non-null   int64 \n",
      " 11  ARRIVAL_DELAY        8081 non-null   int64 \n",
      "dtypes: int64(10), string(2)\n",
      "memory usage: 820.7 KB\n",
      "None\n"
     ]
    }
   ],
   "source": [
    "# Changing the datatypes to the correct types based upon poly_regressor instructions\n",
    "df_filtered = df_filtered.astype({\"YEAR\": \"int64\", \n",
    "            \"MONTH\": \"int64\", \n",
    "            \"DAY\": \"int64\", \n",
    "            \"DAY_OF_WEEK\": \"int64\", \n",
    "            \"ORG_AIRPORT\": \"string\", \n",
    "            \"DEST_AIRPORT\": \"string\", \n",
    "            \"SCHEDULED_DEPARTURE\": \"int64\", \n",
    "            \"DEPARTURE_TIME\": \"int64\", \n",
    "            \"DEPARTURE_DELAY\": \"int64\", \n",
    "            \"SCHEDULED_ARRIVAL\": \"int64\", \n",
    "            \"ARRIVAL_TIME\": \"int64\", \n",
    "            \"ARRIVAL_DELAY\": \"int64\"})\n",
    "print(df_filtered.info())"
   ]
  },
  {
   "cell_type": "code",
   "execution_count": 8,
   "id": "ce579b68-f987-4ee0-bc42-539ff936904f",
   "metadata": {},
   "outputs": [
    {
     "data": {
      "text/plain": [
       "YEAR                   0\n",
       "MONTH                  0\n",
       "DAY                    0\n",
       "DAY_OF_WEEK            0\n",
       "ORG_AIRPORT            0\n",
       "DEST_AIRPORT           0\n",
       "SCHEDULED_DEPARTURE    0\n",
       "DEPARTURE_TIME         0\n",
       "DEPARTURE_DELAY        0\n",
       "SCHEDULED_ARRIVAL      0\n",
       "ARRIVAL_TIME           0\n",
       "ARRIVAL_DELAY          0\n",
       "dtype: Int64"
      ]
     },
     "execution_count": 8,
     "metadata": {},
     "output_type": "execute_result"
    }
   ],
   "source": [
    "# Confirming no empty strings in the dataset\n",
    "(df_filtered == \"\").sum()"
   ]
  },
  {
   "cell_type": "code",
   "execution_count": 9,
   "id": "953014b4-e5e2-43da-aca3-1701440203b2",
   "metadata": {},
   "outputs": [
    {
     "name": "stdout",
     "output_type": "stream",
     "text": [
      "ORG_AIRPORT     False\n",
      "DEST_AIRPORT    False\n",
      "dtype: bool\n"
     ]
    }
   ],
   "source": [
    "# Checking string columns for leading or trailing spaces\n",
    "string_columns = [\"ORG_AIRPORT\", \"DEST_AIRPORT\"]\n",
    "df_trim_check = df_filtered[string_columns].map(lambda x: x.strip() != x)\n",
    "print(df_trim_check.any())\n",
    "## No leading or trailing spaces identified in the strings"
   ]
  },
  {
   "cell_type": "code",
   "execution_count": 10,
   "id": "9de1dd20-68f9-40bd-8b8b-39a4e633f34a",
   "metadata": {},
   "outputs": [],
   "source": [
    "# Exporting the cleaned dataset to a csv file\n",
    "df_filtered.to_csv(\"cleaned_data.csv\", index=False)"
   ]
  }
 ],
 "metadata": {
  "kernelspec": {
   "display_name": "Python 3 (ipykernel)",
   "language": "python",
   "name": "python3"
  },
  "language_info": {
   "codemirror_mode": {
    "name": "ipython",
    "version": 3
   },
   "file_extension": ".py",
   "mimetype": "text/x-python",
   "name": "python",
   "nbconvert_exporter": "python",
   "pygments_lexer": "ipython3",
   "version": "3.12.3"
  }
 },
 "nbformat": 4,
 "nbformat_minor": 5
}
