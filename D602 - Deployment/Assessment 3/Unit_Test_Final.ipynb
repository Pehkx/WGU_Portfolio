{
 "cells": [
  {
   "cell_type": "code",
   "execution_count": 11,
   "id": "a21af44a-5e4a-4812-bdac-a61efa2ddf7d",
   "metadata": {},
   "outputs": [],
   "source": [
    "import pytest\n",
    "from fastapi.testclient import TestClient\n",
    "from API_Python_Final import app\n",
    "\n",
    "client = TestClient(app)\n",
    "\n",
    "## Test to ensure API is active\n",
    "def test_root():\n",
    "    response = client.get(\"/\")\n",
    "    assert response.status_code == 200\n",
    "    assert response.json() == {\"message\": \"Airport Delay Prediction API is running\"}\n",
    "\n",
    "## Test to ensure correct airport code\n",
    "def test_invalid_airport():\n",
    "    response = client.get(\"/predict/delays\", params={\n",
    "    \"arrival_airport\": \"III\",\n",
    "    \"departure_time\": \"07:00\",\n",
    "    \"arrival_time\": \"10:00\"\n",
    "    })\n",
    "    assert response.status_code ==400\n",
    "    assert response.json() == {\"detail\": \"Invalid arrival airport code.\"}\n",
    "\n",
    "## Test to ensure correct time & date format\n",
    "def test_invalid_time_format():\n",
    "    response = client.get(\"/predict/delays\", params={\n",
    "    \"arrival_airport\": 10693,\n",
    "    \"departure_time\": \"25:71\",\n",
    "    \"arrival_time\": \"01:00\"\n",
    "    })\n",
    "    assert response.status_code == 400\n",
    "    assert response.json() == {\"detail\": \"Invalid time format. Use HH:MM.\"}"
   ]
  }
 ],
 "metadata": {
  "kernelspec": {
   "display_name": "Python 3 (ipykernel)",
   "language": "python",
   "name": "python3"
  },
  "language_info": {
   "codemirror_mode": {
    "name": "ipython",
    "version": 3
   },
   "file_extension": ".py",
   "mimetype": "text/x-python",
   "name": "python",
   "nbconvert_exporter": "python",
   "pygments_lexer": "ipython3",
   "version": "3.12.3"
  }
 },
 "nbformat": 4,
 "nbformat_minor": 5
}
