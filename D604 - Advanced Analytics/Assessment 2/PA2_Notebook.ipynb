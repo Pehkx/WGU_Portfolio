{
 "cells": [
  {
   "cell_type": "markdown",
   "metadata": {
    "id": "7NyaIUPmJa32"
   },
   "source": [
    "#**D604 Advanced Analytics**  \n",
    "## Performance Assessment #2 – Sentiment Analysis\n",
    "\n",
    "Bernard Connelly  \n",
    "Master of Science, Data Analytics, Western Governors University  \n",
    "Dr. Sherin Aly  \n",
    "\n",
    "---"
   ]
  },
  {
   "cell_type": "markdown",
   "metadata": {
    "id": "oswuPcNlL8eQ"
   },
   "source": [
    "# Part 1: Research Question  \n",
    "\n",
    "### A1. Research Question  \n",
    "Can a neural network model using Natural Language Processing techniques accurately classify online reviews as positive or negative?\n",
    "\n",
    "### A2. Objectives of Analysis  \n",
    "The objective of this analysis is to build a neural network capable of classifying Amazon product reviews as positive or negative. This will begin with cleaning and preprocessing the data by removing unusual characters, tokenizing, padding, and normalizing the text. I will then develop a model architecture that includes embedding, recurrent, and dense layers, with an LSTM network at its core to handle sequential language data. The model will be trained and validated using appropriate performance metrics, and final recommendations will be made based on its predictive accuracy and business value.\n",
    "\n",
    "### A3. Neural Network Selection  \n",
    "A Recurrent Neural Network will be used to train this data - specifically a Long Short-Term Memory (LSTM) network will be implemented. A LSTM is industry-relevant as they are designed to capture sequential data, making them ideal for NLP. This network type is an excellent starting point for this type of analysis and has yielded relevant results in this category in many similar scenarios."
   ]
  },
  {
   "cell_type": "markdown",
   "metadata": {
    "id": "FHAGySlGSi2x"
   },
   "source": [
    "# Part 2: Importing & Preprocessing  \n"
   ]
  },
  {
   "cell_type": "code",
   "execution_count": 1,
   "metadata": {
    "id": "Zy9PPainNWCL"
   },
   "outputs": [],
   "source": [
    "# Packages and Libraries\n",
    "import pandas as pd # Calculations\n",
    "import numpy as np # Dataframes\n",
    "import re # Regular Expressions\n",
    "import string # To access and remove punctuation\n",
    "import matplotlib.pyplot as plt # Visualization\n",
    "import seaborn as sns # Visualization\n",
    "import warnings # Squelch warnings\n",
    "warnings.filterwarnings(\"ignore\") # Squelch warnings\n",
    "from sklearn.model_selection import train_test_split # Train/Test Split\n",
    "from google.colab import files # Downloading files\n",
    "\n",
    "import tensorflow as tf # Neural Network\n",
    "from tensorflow.keras.preprocessing.text import Tokenizer # Tokenizer\n",
    "from tensorflow.keras.preprocessing.sequence import pad_sequences # Padding\n",
    "from tensorflow.keras.models import Sequential # Sequential Model\n",
    "from tensorflow.keras.layers import Input, Embedding, LSTM, Dense, Dropout # Layers\n",
    "from tensorflow.keras.callbacks import EarlyStopping # Early Stopping\n",
    "from tensorflow.keras.models import load_model # Loading Model\n",
    "import json # Saving Model History"
   ]
  },
  {
   "cell_type": "code",
   "execution_count": 2,
   "metadata": {
    "colab": {
     "base_uri": "https://localhost:8080/",
     "height": 0
    },
    "id": "A2tyXryKV6QB",
    "outputId": "12b79b1b-25db-4664-f8a5-ea15c67aea1e"
   },
   "outputs": [
    {
     "name": "stdout",
     "output_type": "stream",
     "text": [
      "Dataset Header:\n",
      "                                             sentence  label\n",
      "0  So there is no way for me to plug it in here i...      0\n",
      "1                        Good case, Excellent value.      1\n",
      "2                             Great for the jawbone.      1\n",
      "3  Tied to charger for conversations lasting more...      0\n",
      "4                                  The mic is great.      1\n",
      "\n",
      "Shape:\n",
      "(1000, 2)\n",
      "\n",
      "Data Types:\n",
      " Sentence Data Type: object\n",
      " Labels Data Type: int64\n"
     ]
    }
   ],
   "source": [
    "# Importing Dataset & Initial Profiling\n",
    "df = pd.read_csv('/content/drive/MyDrive/Colab_Notebooks/amazon_cells_labelled.txt', sep='\\t', header=None, names=['sentence','label'])\n",
    "print(\"Dataset Header:\\n\", df.head())\n",
    "print(\"\\nShape:\")\n",
    "print(df.shape)\n",
    "print(\"\\nData Types:\\n\", \"Sentence Data Type:\", df['sentence'].dtype)\n",
    "print(\" Labels Data Type:\", df['label'].dtype)"
   ]
  },
  {
   "cell_type": "markdown",
   "metadata": {
    "id": "ROgKnawndxFH"
   },
   "source": [
    "### B1. Exploratory Data Analysis of unusual characters, vocabulary size, word embedding length and maximum sequence length  \n",
    "\n",
    "**B1a. Identifying Unusual Characters**"
   ]
  },
  {
   "cell_type": "code",
   "execution_count": 3,
   "metadata": {
    "colab": {
     "base_uri": "https://localhost:8080/",
     "height": 0
    },
    "id": "JIwzdhG9d_lZ",
    "outputId": "f31ea078-e85b-4afe-a8e9-1f81bbffca2f"
   },
   "outputs": [
    {
     "name": "stdout",
     "output_type": "stream",
     "text": [
      "Unusual Characters: set()\n"
     ]
    }
   ],
   "source": [
    "## Identifying Unusual Characters\n",
    "unusual_chars = set()\n",
    "for s in df['sentence']:\n",
    "    for c in s:\n",
    "        if ord(c) > 127:\n",
    "            unusual_chars.add(c)\n",
    "\n",
    "print(\"Unusual Characters:\", unusual_chars)\n"
   ]
  },
  {
   "cell_type": "markdown",
   "metadata": {
    "id": "QsecwtWOfG4v"
   },
   "source": [
    "No unusual characters were found in the dataset. However, there were instances of emoticons in the dataset, so I created an additional loop to search for various versions of those."
   ]
  },
  {
   "cell_type": "code",
   "execution_count": 4,
   "metadata": {
    "colab": {
     "base_uri": "https://localhost:8080/",
     "height": 0
    },
    "id": "vACtr2TXN4pv",
    "outputId": "ac475141-d604-42bc-ecf6-9941e55b3cae"
   },
   "outputs": [
    {
     "name": "stdout",
     "output_type": "stream",
     "text": [
      "Emoticons found: {':-)', ':)'}\n"
     ]
    }
   ],
   "source": [
    "# Finding Emoticons\n",
    "emoticon_patterns = r'[:;=8][\\-o\\*\\']?[\\)\\(D]'\n",
    "emoticon_matches = []\n",
    "\n",
    "for s in df['sentence']:\n",
    "    found = re.findall(emoticon_patterns, s)\n",
    "    if found:\n",
    "        emoticon_matches.extend(found)\n",
    "\n",
    "print(\"Emoticons found:\", set(emoticon_matches))\n"
   ]
  },
  {
   "cell_type": "markdown",
   "metadata": {
    "id": "O6eGECbTSgB8"
   },
   "source": [
    "The project did not explicitly call out actioning emoticons, only emojis, but it was worthwhile to identify those that were present. Before tokenizing the data, I will perform standard cleaning to remove the emoticons and make all text lowercase, removing extra spaces and punctuation to ensure the cleanest tokenization possible. I opted to maintain stopwords since sentiment analysis can find value in stopwords to \"comprehend the subtleties and emotional tone of the text\" (Singh, 2023).\n",
    "\n"
   ]
  },
  {
   "cell_type": "code",
   "execution_count": 5,
   "metadata": {
    "id": "lMSxxNYCXkT_"
   },
   "outputs": [],
   "source": [
    "# Performing standard cleaning steps\n",
    "\n",
    "def clean_text(text):\n",
    "  text = text.lower() ## Making values lowercase\n",
    "  text = re.sub(r'[:;=8][\\-o\\*\\']?[\\)\\(dDpP]', '', text) ## Removing emoticons\n",
    "  text = re.sub(r'\\s+', ' ', text) ## Removing extra spaces\n",
    "  text = text.translate(str.maketrans('', '', string.punctuation)) ## Removing punctuation\n",
    "  return text\n",
    "\n",
    "df['sentence'] = df['sentence'].apply(clean_text)"
   ]
  },
  {
   "cell_type": "code",
   "execution_count": 6,
   "metadata": {
    "colab": {
     "base_uri": "https://localhost:8080/",
     "height": 0
    },
    "id": "-2agadjYYGC-",
    "outputId": "dc0ca0c7-cdeb-40fd-f488-5547cc972673"
   },
   "outputs": [
    {
     "name": "stdout",
     "output_type": "stream",
     "text": [
      "Emoticons found: set()\n",
      "\n",
      "Header:\n",
      "                                            sentence  label\n",
      "0  so there is no way for me to plug it in here i...      0\n",
      "1                          good case excellent value      1\n",
      "2                              great for the jawbone      1\n",
      "3  tied to charger for conversations lasting more...      0\n",
      "4                                   the mic is great      1\n"
     ]
    }
   ],
   "source": [
    "# Confirming cleaning worked properly\n",
    "\n",
    "## Finding Emoticons\n",
    "emoticon_patterns = r'[:;=8][\\-o\\*\\']?[\\)\\(D]'\n",
    "emoticon_matches = []\n",
    "\n",
    "for s in df['sentence']:\n",
    "    found = re.findall(emoticon_patterns, s)\n",
    "    if found:\n",
    "        emoticon_matches.extend(found)\n",
    "\n",
    "print(\"Emoticons found:\", set(emoticon_matches))\n",
    "print(\"\\nHeader:\")\n",
    "print(df.head())"
   ]
  },
  {
   "cell_type": "markdown",
   "metadata": {
    "id": "XgbXNjMtXKIa"
   },
   "source": [
    "**B1b. Vocabulary Size**"
   ]
  },
  {
   "cell_type": "code",
   "execution_count": 7,
   "metadata": {
    "colab": {
     "base_uri": "https://localhost:8080/",
     "height": 0
    },
    "id": "qj-rbV3RfKt4",
    "outputId": "65d625f7-1596-4fbf-f323-b25da450df06"
   },
   "outputs": [
    {
     "name": "stdout",
     "output_type": "stream",
     "text": [
      "Unique Words Count: 1906\n",
      "\n",
      "Example sentence: so there is no way for me to plug it in here in the us unless i go by a converter\n",
      "Tokenized: [34, 117, 6, 59, 211, 12, 51, 9, 154, 5, 20, 331, 20, 2, 540, 541, 3, 237, 186, 7, 792]\n"
     ]
    }
   ],
   "source": [
    "# Tokenize dataset & identify unique word count\n",
    "\n",
    "tokenizer = Tokenizer(oov_token='<OOV>')\n",
    "tokenizer.fit_on_texts(df['sentence'])\n",
    "vocab_size = len(tokenizer.word_index) + 1\n",
    "sequences = tokenizer.texts_to_sequences(df['sentence'])\n",
    "\n",
    "print (\"Unique Words Count:\", len(tokenizer.word_index))\n",
    "## Confirming results\n",
    "print(\"\\nExample sentence:\", df['sentence'][0])\n",
    "print(\"Tokenized:\", sequences[0])\n"
   ]
  },
  {
   "cell_type": "markdown",
   "metadata": {
    "id": "6_FJA1VbT1vB"
   },
   "source": [
    "After tokenizing the set, a total of 1906 unique words were identified. This value is well under standard thresholds typically used in an LSTM (10,000 words). The full vocabulary was retained without limiting or capping the number of words so that the model can learn from all available text without significant processing power costs."
   ]
  },
  {
   "cell_type": "markdown",
   "metadata": {
    "id": "B6VJhCRWVjyP"
   },
   "source": [
    "**B1c. Word Embedding Length**  \n",
    "The model will use an embedding layer to convert each token into a dense vector. The industry standard embedding length for an LSTM model is 128 dimensions, so this will be the starting point for my model. If the results indicate the model is overfitting too quickly, or the dataset size to embedding size ratio does not produce accurate results, this value may be edited before the final run of the model."
   ]
  },
  {
   "cell_type": "markdown",
   "metadata": {
    "id": "X8OH_kFvmUu-"
   },
   "source": [
    "**B1d. Justification for Sequence Length**\n",
    "\n",
    "90% of all sentences are captured with a sequence length of 20. Additionally, the maximum review length was 30 words. The value 20 will be selected as the maximum length to retain nearly all reviews in the dataset while minimizing the amount of padding required for shorter reviews. This is a healthy median  amount to preserve the majority of the sentences in the dataset while reducing overall computational costs.\n",
    "\n"
   ]
  },
  {
   "cell_type": "code",
   "execution_count": 8,
   "metadata": {
    "colab": {
     "base_uri": "https://localhost:8080/",
     "height": 0
    },
    "id": "FBH2XfY2jwOF",
    "outputId": "5ceb9ab6-6bc1-43d2-8278-99909e116b7b"
   },
   "outputs": [
    {
     "name": "stdout",
     "output_type": "stream",
     "text": [
      "Mean length: 10.196\n",
      "Median length: 9.0\n",
      "Max length: 30\n",
      "90th percentile: 20.0\n",
      "95th percentile: 23.0\n"
     ]
    }
   ],
   "source": [
    "# Identifying Sequence Length + Descriptive Statistics\n",
    "sentence_lengths = [len(seq) for seq in sequences]\n",
    "\n",
    "print(\"Mean length:\", np.mean(sentence_lengths))\n",
    "print(\"Median length:\", np.median(sentence_lengths))\n",
    "print(\"Max length:\", np.max(sentence_lengths))\n",
    "print(\"90th percentile:\", np.percentile(sentence_lengths, 90))\n",
    "print(\"95th percentile:\", np.percentile(sentence_lengths, 95))"
   ]
  },
  {
   "cell_type": "code",
   "execution_count": 9,
   "metadata": {
    "colab": {
     "base_uri": "https://localhost:8080/",
     "height": 0
    },
    "id": "OUGWsuAdmm1k",
    "outputId": "47c21024-d262-4805-fbf7-c84c2fccebd5"
   },
   "outputs": [
    {
     "name": "stdout",
     "output_type": "stream",
     "text": [
      "Shape of padded sequences: (1000, 20)\n",
      "\n",
      "Example sentence: good case excellent value\n",
      "Padded: [ 22  49  54 265   0   0   0   0   0   0   0   0   0   0   0   0   0   0\n",
      "   0   0]\n"
     ]
    }
   ],
   "source": [
    "# Setting maximum length and padding the smaller sequences\n",
    "max_length = 20\n",
    "padded_sequences = pad_sequences(sequences, maxlen=max_length, padding='post', truncating='post')\n",
    "\n",
    "## Validating changes\n",
    "padded_shape = np.array(padded_sequences).shape\n",
    "print(\"Shape of padded sequences:\", padded_shape)\n",
    "print(\"\\nExample sentence:\", df['sentence'][1])\n",
    "print(\"Padded:\", padded_sequences[1])"
   ]
  },
  {
   "cell_type": "markdown",
   "metadata": {
    "id": "8BtpaIRB2Ig6"
   },
   "source": [
    "### B2. Describe the Tokenization Process  \n",
    "The goal of the tokenization process is to convert the raw text into a numerical format that an ML model can understand. For this project, the process included normalizing the text, breaking each sentence into individual words, assigning a unique ID to each word, and converting all sentences into sequences of those IDs. An out-of-vocabulary variable is also created to cover any texts that may have been cut from the dataset - this is just best practices, as there was no limit placed on the vocabulary for this project. Finally, the sequences were padded with additional zeroes to ensure they could be passed into the LSTM model for classification.\n",
    "\n",
    "For normalization, the steps taken were to convert all text to lowercase, remove all punctuation and emoticons, and remove extra spaces. This was accomplished using the following code:\n",
    "\n",
    "```\n",
    "import re # Regular Expressions\n",
    "import string # To access and remove punctuation\n",
    "\n",
    "def clean_text(text):\n",
    "  text = text.lower() ## Making values lowercase\n",
    "  text = re.sub(r'[:;=8][\\-o\\*\\']?[\\)\\(dDpP]', '', text) ## Removing emoticons\n",
    "  text = re.sub(r'\\s+', ' ', text) ## Removing extra spaces\n",
    "  text = text.translate(str.maketrans('', '', string.punctuation)) ## Removing punctuation\n",
    "  return text\n",
    "\n",
    "df['sentence'] = df['sentence'].apply(clean_text)\n",
    "```\n",
    "\n",
    "Tokenization was performed using the Tokenizer class, and was accomplished with the following code:\n",
    "\n",
    "```\n",
    "from tensorflow.keras.preprocessing.text import Tokenizer # Tokenizer\n",
    "\n",
    "tokenizer = Tokenizer(oov_token='<OOV>')\n",
    "tokenizer.fit_on_texts(df['sentence'])\n",
    "vocab_size = len(tokenizer.word_index) + 1\n",
    "sequences = tokenizer.texts_to_sequences(df['sentence'])\n",
    "\n",
    "print (\"Unique Words Count:\", len(tokenizer.word_index))\n",
    "```\n",
    "\n",
    "Of note, the `fit_on_texts()` & `texts_to_sequences()` methods are also both from the Tokenizer class."
   ]
  },
  {
   "cell_type": "markdown",
   "metadata": {
    "id": "0ugPx-5szuhh"
   },
   "source": [
    "### B3. Explanation of Padding Process  \n",
    "To prepare the tokenized sequences for input into an LSTM model, each sequence must be the same length. Since the review sentences in the Amazon dataset vary in length, shorter sequences were padded with zeroes, and longer sequences were truncated to creat inputs with a uniform shape. This is a necessary step for deep learning models, which require input to be in a consistent 2D matrix format - otherwise the model cannot process data correctly.\n",
    "\n",
    "To determine a reasonable cutoff point for sequence length, I calculated the metrics for sentence lengths, identified where the 90th percentile was, and utilized that value for a reasonable maximum length cutoff (20 tokens).\n",
    "\n",
    "I used the `pad_sequences()` function from `tensorflow.keras.preprocessing.sequence` to perform the padding on this dataset. The padding was applied to the end of each sequence (`padding='post')`. Truncating was also performed on the end of each sentence (`truncating='post')` as typically the most relevant information and context in a review occurs at the beginning of the sentence.\n",
    "\n",
    "```\n",
    "from tensorflow.keras.preprocessing.sequence import pad_sequences # Padding\n",
    "\n",
    "print(\"\\nExample sentence:\", df['sentence'][1])\n",
    "print(\"Padded:\", padded_sequences[1])\n",
    "\n",
    "Example sentence: good case excellent value\n",
    "Padded: [ 22  49  54 265   0   0   0   0   0   0   0   0   0   0   0   0   0   0\n",
    "   0   0]\n",
    "```"
   ]
  },
  {
   "cell_type": "markdown",
   "metadata": {
    "id": "PWOVZVbK8j8d"
   },
   "source": [
    "### B4. Sentiment Categories & Dense Activation Function  \n",
    "\n",
    "This project uses binary classification to predict the sentiment of each Amazon review. Positive sentiments will be labeled as 1, and negative sentiments will be labeled as 0. As such, the model is predicting two possible outcomes.\n",
    "\n",
    "A sigmoid activation function will be used for the final dense output layer. This function outputs a value between 0 and 1, representing the positive review's probability. It is ideal for binary classification problems as it allows a simple decision-making rule - any values greater than or equal to .5 are labeled as positive."
   ]
  },
  {
   "cell_type": "markdown",
   "metadata": {
    "id": "a0Lxihu6I4TD"
   },
   "source": [
    "### B5. Preparation Steps and Data Split  \n",
    "An industry-standard Train/Validation/Test split of 80/10/10 was used for this project, which aligns with best practices for machine learning models. 80% will be used to train the model and update the parameters and weights. 10% will be used to validate and tune hyperparameters and monitor for overfitting with best practices for machine learning models. 80% will be used to train the model and update the parameters and weights. 10% will be used to validate and tune hyperparameters and monitor for over or underfitting. Finally, 10% will be used to evaluate the model's effectiveness and generalization to unseen data.\n",
    "\n",
    "The `train_test_split()` function from Scikit-learn is used to perform this analysis, and they were stratefied based upon the class labels to preserve the balance between positive and negative reviews in the set."
   ]
  },
  {
   "cell_type": "code",
   "execution_count": 10,
   "metadata": {
    "id": "tdAqL23BKHtz"
   },
   "outputs": [],
   "source": [
    "# Splitting the Dataset for Training, Validation and Testing\n",
    "\n",
    "X = np.array(padded_sequences)\n",
    "y = np.array (df['label'])\n",
    "\n",
    "X_train, X_temp, y_train, y_temp = train_test_split(X, y, test_size=0.2, random_state=42, stratify=y)\n",
    "X_val, X_test, y_val, y_test = train_test_split(X_temp, y_temp, test_size=0.5, random_state=42)"
   ]
  },
  {
   "cell_type": "markdown",
   "metadata": {
    "id": "EFXVYGExKyeQ"
   },
   "source": [
    "### B6. Create Copy of the Prepared Dataset   "
   ]
  },
  {
   "cell_type": "code",
   "execution_count": 11,
   "metadata": {
    "colab": {
     "base_uri": "https://localhost:8080/",
     "height": 53
    },
    "id": "Eibi0YSnK0cX",
    "outputId": "4fd6a092-1a7b-4fc9-f850-e51032aadcf0"
   },
   "outputs": [
    {
     "data": {
      "application/vnd.google.colaboratory.intrinsic+json": {
       "type": "string"
      },
      "text/plain": [
       "\"\\n# Compiling and saving the prepared dataset\\nsave_path = ('/content/drive/MyDrive/Colab_Notebooks/prepared_dataset.csv')\\nlabels = np.array(df['label'])\\nprepared_df = pd.DataFrame(padded_sequences)\\nprepared_df['label]'] = labels\\nprepared_df['cleaned_text'] = df['sentence']\\nprepared_df.to_csv(save_path, index=False)\\n\""
      ]
     },
     "execution_count": 11,
     "metadata": {},
     "output_type": "execute_result"
    }
   ],
   "source": [
    "'''\n",
    "# Compiling and saving the prepared dataset\n",
    "save_path = ('/content/drive/MyDrive/Colab_Notebooks/prepared_dataset.csv')\n",
    "labels = np.array(df['label'])\n",
    "prepared_df = pd.DataFrame(padded_sequences)\n",
    "prepared_df['label]'] = labels\n",
    "prepared_df['cleaned_text'] = df['sentence']\n",
    "prepared_df.to_csv(save_path, index=False)\n",
    "'''"
   ]
  },
  {
   "cell_type": "markdown",
   "metadata": {
    "id": "kHQGZME5RwA6"
   },
   "source": [
    "# Part 3: Network Architecture  \n",
    "\n",
    "### C1. Model Summary"
   ]
  },
  {
   "cell_type": "code",
   "execution_count": 12,
   "metadata": {
    "id": "osMjlr7jL-V-"
   },
   "outputs": [],
   "source": [
    "# Define & Build RNN + LSTM Model\n",
    "model = Sequential([\n",
    "    Input(shape=(max_length,)),\n",
    "    Embedding(input_dim=vocab_size,\n",
    "              output_dim=100,\n",
    "              input_length=max_length),\n",
    "    LSTM(64),\n",
    "    Dropout(0.5),\n",
    "    Dense(32, activation='relu'),\n",
    "    Dense(1, activation='sigmoid')\n",
    "])"
   ]
  },
  {
   "cell_type": "code",
   "execution_count": 13,
   "metadata": {
    "colab": {
     "base_uri": "https://localhost:8080/",
     "height": 306
    },
    "id": "oLiCGL07YIck",
    "outputId": "52f14e67-8f58-479a-dcf2-2fea43892f5b"
   },
   "outputs": [
    {
     "data": {
      "text/html": [
       "<pre style=\"white-space:pre;overflow-x:auto;line-height:normal;font-family:Menlo,'DejaVu Sans Mono',consolas,'Courier New',monospace\"><span style=\"font-weight: bold\">Model: \"sequential\"</span>\n",
       "</pre>\n"
      ],
      "text/plain": [
       "\u001b[1mModel: \"sequential\"\u001b[0m\n"
      ]
     },
     "metadata": {},
     "output_type": "display_data"
    },
    {
     "data": {
      "text/html": [
       "<pre style=\"white-space:pre;overflow-x:auto;line-height:normal;font-family:Menlo,'DejaVu Sans Mono',consolas,'Courier New',monospace\">┏━━━━━━━━━━━━━━━━━━━━━━━━━━━━━━━━━┳━━━━━━━━━━━━━━━━━━━━━━━━┳━━━━━━━━━━━━━━━┓\n",
       "┃<span style=\"font-weight: bold\"> Layer (type)                    </span>┃<span style=\"font-weight: bold\"> Output Shape           </span>┃<span style=\"font-weight: bold\">       Param # </span>┃\n",
       "┡━━━━━━━━━━━━━━━━━━━━━━━━━━━━━━━━━╇━━━━━━━━━━━━━━━━━━━━━━━━╇━━━━━━━━━━━━━━━┩\n",
       "│ embedding (<span style=\"color: #0087ff; text-decoration-color: #0087ff\">Embedding</span>)           │ (<span style=\"color: #00d7ff; text-decoration-color: #00d7ff\">None</span>, <span style=\"color: #00af00; text-decoration-color: #00af00\">20</span>, <span style=\"color: #00af00; text-decoration-color: #00af00\">100</span>)        │       <span style=\"color: #00af00; text-decoration-color: #00af00\">190,700</span> │\n",
       "├─────────────────────────────────┼────────────────────────┼───────────────┤\n",
       "│ lstm (<span style=\"color: #0087ff; text-decoration-color: #0087ff\">LSTM</span>)                     │ (<span style=\"color: #00d7ff; text-decoration-color: #00d7ff\">None</span>, <span style=\"color: #00af00; text-decoration-color: #00af00\">64</span>)             │        <span style=\"color: #00af00; text-decoration-color: #00af00\">42,240</span> │\n",
       "├─────────────────────────────────┼────────────────────────┼───────────────┤\n",
       "│ dropout (<span style=\"color: #0087ff; text-decoration-color: #0087ff\">Dropout</span>)               │ (<span style=\"color: #00d7ff; text-decoration-color: #00d7ff\">None</span>, <span style=\"color: #00af00; text-decoration-color: #00af00\">64</span>)             │             <span style=\"color: #00af00; text-decoration-color: #00af00\">0</span> │\n",
       "├─────────────────────────────────┼────────────────────────┼───────────────┤\n",
       "│ dense (<span style=\"color: #0087ff; text-decoration-color: #0087ff\">Dense</span>)                   │ (<span style=\"color: #00d7ff; text-decoration-color: #00d7ff\">None</span>, <span style=\"color: #00af00; text-decoration-color: #00af00\">32</span>)             │         <span style=\"color: #00af00; text-decoration-color: #00af00\">2,080</span> │\n",
       "├─────────────────────────────────┼────────────────────────┼───────────────┤\n",
       "│ dense_1 (<span style=\"color: #0087ff; text-decoration-color: #0087ff\">Dense</span>)                 │ (<span style=\"color: #00d7ff; text-decoration-color: #00d7ff\">None</span>, <span style=\"color: #00af00; text-decoration-color: #00af00\">1</span>)              │            <span style=\"color: #00af00; text-decoration-color: #00af00\">33</span> │\n",
       "└─────────────────────────────────┴────────────────────────┴───────────────┘\n",
       "</pre>\n"
      ],
      "text/plain": [
       "┏━━━━━━━━━━━━━━━━━━━━━━━━━━━━━━━━━┳━━━━━━━━━━━━━━━━━━━━━━━━┳━━━━━━━━━━━━━━━┓\n",
       "┃\u001b[1m \u001b[0m\u001b[1mLayer (type)                   \u001b[0m\u001b[1m \u001b[0m┃\u001b[1m \u001b[0m\u001b[1mOutput Shape          \u001b[0m\u001b[1m \u001b[0m┃\u001b[1m \u001b[0m\u001b[1m      Param #\u001b[0m\u001b[1m \u001b[0m┃\n",
       "┡━━━━━━━━━━━━━━━━━━━━━━━━━━━━━━━━━╇━━━━━━━━━━━━━━━━━━━━━━━━╇━━━━━━━━━━━━━━━┩\n",
       "│ embedding (\u001b[38;5;33mEmbedding\u001b[0m)           │ (\u001b[38;5;45mNone\u001b[0m, \u001b[38;5;34m20\u001b[0m, \u001b[38;5;34m100\u001b[0m)        │       \u001b[38;5;34m190,700\u001b[0m │\n",
       "├─────────────────────────────────┼────────────────────────┼───────────────┤\n",
       "│ lstm (\u001b[38;5;33mLSTM\u001b[0m)                     │ (\u001b[38;5;45mNone\u001b[0m, \u001b[38;5;34m64\u001b[0m)             │        \u001b[38;5;34m42,240\u001b[0m │\n",
       "├─────────────────────────────────┼────────────────────────┼───────────────┤\n",
       "│ dropout (\u001b[38;5;33mDropout\u001b[0m)               │ (\u001b[38;5;45mNone\u001b[0m, \u001b[38;5;34m64\u001b[0m)             │             \u001b[38;5;34m0\u001b[0m │\n",
       "├─────────────────────────────────┼────────────────────────┼───────────────┤\n",
       "│ dense (\u001b[38;5;33mDense\u001b[0m)                   │ (\u001b[38;5;45mNone\u001b[0m, \u001b[38;5;34m32\u001b[0m)             │         \u001b[38;5;34m2,080\u001b[0m │\n",
       "├─────────────────────────────────┼────────────────────────┼───────────────┤\n",
       "│ dense_1 (\u001b[38;5;33mDense\u001b[0m)                 │ (\u001b[38;5;45mNone\u001b[0m, \u001b[38;5;34m1\u001b[0m)              │            \u001b[38;5;34m33\u001b[0m │\n",
       "└─────────────────────────────────┴────────────────────────┴───────────────┘\n"
      ]
     },
     "metadata": {},
     "output_type": "display_data"
    },
    {
     "data": {
      "text/html": [
       "<pre style=\"white-space:pre;overflow-x:auto;line-height:normal;font-family:Menlo,'DejaVu Sans Mono',consolas,'Courier New',monospace\"><span style=\"font-weight: bold\"> Total params: </span><span style=\"color: #00af00; text-decoration-color: #00af00\">235,053</span> (918.18 KB)\n",
       "</pre>\n"
      ],
      "text/plain": [
       "\u001b[1m Total params: \u001b[0m\u001b[38;5;34m235,053\u001b[0m (918.18 KB)\n"
      ]
     },
     "metadata": {},
     "output_type": "display_data"
    },
    {
     "data": {
      "text/html": [
       "<pre style=\"white-space:pre;overflow-x:auto;line-height:normal;font-family:Menlo,'DejaVu Sans Mono',consolas,'Courier New',monospace\"><span style=\"font-weight: bold\"> Trainable params: </span><span style=\"color: #00af00; text-decoration-color: #00af00\">235,053</span> (918.18 KB)\n",
       "</pre>\n"
      ],
      "text/plain": [
       "\u001b[1m Trainable params: \u001b[0m\u001b[38;5;34m235,053\u001b[0m (918.18 KB)\n"
      ]
     },
     "metadata": {},
     "output_type": "display_data"
    },
    {
     "data": {
      "text/html": [
       "<pre style=\"white-space:pre;overflow-x:auto;line-height:normal;font-family:Menlo,'DejaVu Sans Mono',consolas,'Courier New',monospace\"><span style=\"font-weight: bold\"> Non-trainable params: </span><span style=\"color: #00af00; text-decoration-color: #00af00\">0</span> (0.00 B)\n",
       "</pre>\n"
      ],
      "text/plain": [
       "\u001b[1m Non-trainable params: \u001b[0m\u001b[38;5;34m0\u001b[0m (0.00 B)\n"
      ]
     },
     "metadata": {},
     "output_type": "display_data"
    }
   ],
   "source": [
    "# Compiling Model & Outputting Summary\n",
    "model.compile(\n",
    "    loss='binary_crossentropy',\n",
    "    optimizer='adam',\n",
    "    metrics=['accuracy'],\n",
    ")\n",
    "\n",
    "# Defining Early Stopping\n",
    "early_stop = EarlyStopping(\n",
    "monitor='val_loss',\n",
    "patience=3,\n",
    "restore_best_weights=True\n",
    ")\n",
    "\n",
    "model.summary()"
   ]
  },
  {
   "cell_type": "markdown",
   "metadata": {
    "id": "6H9hGTEfbdFb"
   },
   "source": [
    "### C2. Discussion of Layers, Types, and Parameters\n",
    "\n",
    "The model contains five distinct layers: one Embedding, one LSTM, one Dropout, and two Dense layers.  Each layer has a distinct purpose to transform and learn from the dataset. The initial Embedding layer allows the model to learn meaningful vector representations of words. The LSTM layer is used to capture word order and context which is uniquely helpful in understanding sentiment. The Dropout layer ensures the model does not become overly dependent on a single node by randomly turning off neurons during training.\n",
    "\n",
    "The first Dense layer has 32 units and uses a RelU activation function. This layer processes the output from the LSTM learns how to combine the weights and other features, enabling the model to detect less obvious sentiment patterns. The final dense layer contains a single neuron and uses a sigmoid function to condense the learned information into a probability value between 0 and 1. The output of this final layer represents the model's confidence that the review expresses positive sentiment.\n",
    "\n",
    "The model contains 235,053 trainable parameters, all of which are optimized to improve the model's ability to successfuly clasify sentiment."
   ]
  },
  {
   "cell_type": "markdown",
   "metadata": {
    "id": "CVTOS5SmjYBT"
   },
   "source": [
    "### C3. Hyperparameter Choice and Justification  \n",
    "\n",
    "**Activation Functions**  \n",
    "The model uses two activation functions throughout its layers - RelU for the Dense 32 unit layer, and Sigmoid for the final Dense Output layer. The RelU function in the Dense hidden layer facilitates efficient training, enables complex feature learning, and avoids vanishing gradients extracted by the LSTM layer. This is a standard choice for hidden layers in deep learning models. The Sigmoid function is optimal for condensing the learned information in a single neuron layer down to a probability between 0 and 1 for predicting the correct sentiment and is a standard baseline activation function for this model type.\n",
    "\n",
    "**Number of Nodes per Layer**  \n",
    "The initial embedding layer was set to output vectors of length 100. This controls how richly each word is represented - and since the dataset is relatively small (1000 sentences with 1901 unique tokens), a standard default like  128 could run the risk of overfitting. If underfitting is observed, this value may be increased in future tuning.  \n",
    "\n",
    "The LSTM layer has 64 units, a common starting point that provides sufficient learning capacity. A smaller size could miss important details, and a larger size could introduce unnecessary complexity. The dropout layer has no units, but randomly disables 50% of the LSTM output neurons during training to avoid overfitting and dependence on any single node.   \n",
    "\n",
    "The Dense layer with 32 units follows, using a ReLU activation to help the model learn higher-level feature combinations extracted from the LSTM layer. The Final Dense output layer consists of 1 unit with a Sigmoid activation, which is used to output a probability score between 0 and 1 indicating the likelihood of positive sentiment.\n",
    "\n",
    "**Loss Function**  \n",
    "The model uses `binary crossentropy` as the loss function. This is the standard loss function for binary classification problems where the target label is 0 or 1. `Binary crossentropy` measures the difference between the predicted probability and the actual label, more heavily penalizing confident but incorrect predictions. It is especially well-suited when using a Sigmoid activation in the output layer, as both deal with outputs representing probabilities, and the model is pushed towards improving the probability outputs in a consistent way.\n",
    "\n",
    "**Optimizer**  \n",
    "`Adam` (Adaptive Moment Estimation) was used for this network. Amongst its strengths, `Adam` combines two optimization techniques - momentum and RMSProp (Root Mean Squared Propagation). In more lay terms, this means it remembers the general direction the gradients are going, smooths out gradient descent (momentum), and scales the learning rate for each weight by maintaining a running average of squared gradients (RMSProp). Each step determines how the loss changed and which weights were responsible, and adjusts them based on past updates and the reliability of the gradient. Regarding the learning rate, 0.001 is the standard learning rate for `Adam`. Broadly speaking, it is a safe, stable default for `Adam` across various problems and architectures. Additionally, since `Adam` adapts the learning rate for each weight internally, there is no need for a very large or small learning rate.\n",
    "\n",
    "**Stopping Criteria**  \n",
    "The training process uses an early stopping callback to prevent overfitting. This monitors the validation loss during training, and if the loss does not improve for a set number of consecutive epochs (3), training is halted. This ensures the model stops learning when further training would not improve performance and may begin to overfit."
   ]
  },
  {
   "cell_type": "markdown",
   "metadata": {
    "id": "qARbX767ySYP"
   },
   "source": [
    "# Part 4: Neural Network Model Evaluation  \n"
   ]
  },
  {
   "cell_type": "code",
   "execution_count": 14,
   "metadata": {
    "colab": {
     "base_uri": "https://localhost:8080/",
     "height": 0
    },
    "id": "TrDAGxkohoUQ",
    "outputId": "d4cec5f9-8416-4156-d23b-4b70f0438d11"
   },
   "outputs": [
    {
     "name": "stdout",
     "output_type": "stream",
     "text": [
      "Epoch 1/20\n",
      "\u001b[1m25/25\u001b[0m \u001b[32m━━━━━━━━━━━━━━━━━━━━\u001b[0m\u001b[37m\u001b[0m \u001b[1m6s\u001b[0m 47ms/step - accuracy: 0.4729 - loss: 0.6952 - val_accuracy: 0.5000 - val_loss: 0.6935\n",
      "Epoch 2/20\n",
      "\u001b[1m25/25\u001b[0m \u001b[32m━━━━━━━━━━━━━━━━━━━━\u001b[0m\u001b[37m\u001b[0m \u001b[1m1s\u001b[0m 37ms/step - accuracy: 0.5273 - loss: 0.6934 - val_accuracy: 0.4300 - val_loss: 0.6936\n",
      "Epoch 3/20\n",
      "\u001b[1m25/25\u001b[0m \u001b[32m━━━━━━━━━━━━━━━━━━━━\u001b[0m\u001b[37m\u001b[0m \u001b[1m1s\u001b[0m 34ms/step - accuracy: 0.5795 - loss: 0.6901 - val_accuracy: 0.6500 - val_loss: 0.6830\n",
      "Epoch 4/20\n",
      "\u001b[1m25/25\u001b[0m \u001b[32m━━━━━━━━━━━━━━━━━━━━\u001b[0m\u001b[37m\u001b[0m \u001b[1m1s\u001b[0m 35ms/step - accuracy: 0.7226 - loss: 0.5639 - val_accuracy: 0.7400 - val_loss: 0.6495\n",
      "Epoch 5/20\n",
      "\u001b[1m25/25\u001b[0m \u001b[32m━━━━━━━━━━━━━━━━━━━━\u001b[0m\u001b[37m\u001b[0m \u001b[1m1s\u001b[0m 20ms/step - accuracy: 0.9458 - loss: 0.1726 - val_accuracy: 0.8000 - val_loss: 0.5721\n",
      "Epoch 6/20\n",
      "\u001b[1m25/25\u001b[0m \u001b[32m━━━━━━━━━━━━━━━━━━━━\u001b[0m\u001b[37m\u001b[0m \u001b[1m0s\u001b[0m 17ms/step - accuracy: 0.9879 - loss: 0.0425 - val_accuracy: 0.8500 - val_loss: 0.5809\n",
      "Epoch 7/20\n",
      "\u001b[1m25/25\u001b[0m \u001b[32m━━━━━━━━━━━━━━━━━━━━\u001b[0m\u001b[37m\u001b[0m \u001b[1m1s\u001b[0m 20ms/step - accuracy: 0.9949 - loss: 0.0362 - val_accuracy: 0.8000 - val_loss: 0.8585\n",
      "Epoch 8/20\n",
      "\u001b[1m25/25\u001b[0m \u001b[32m━━━━━━━━━━━━━━━━━━━━\u001b[0m\u001b[37m\u001b[0m \u001b[1m1s\u001b[0m 20ms/step - accuracy: 0.9973 - loss: 0.0151 - val_accuracy: 0.7900 - val_loss: 1.0182\n"
     ]
    }
   ],
   "source": [
    "\n",
    "# Training the Model\n",
    "history = model.fit(\n",
    "    X_train, y_train,\n",
    "    epochs=20,\n",
    "    batch_size=32,\n",
    "    validation_data=(X_val, y_val),\n",
    "    callbacks=[early_stop]\n",
    ")\n"
   ]
  },
  {
   "cell_type": "markdown",
   "metadata": {
    "id": "nNTVa3dUiXFZ"
   },
   "source": [
    "### Saving & Loading Model Results\n",
    "*The below code was implemented to avoid having to re-run the entire model & identify new results every time the runtime was disconnected. This ensures continuity in analysis and avoids random initialization and data shuffling every time the model is run.*\n",
    "\n",
    "*For ease of use, the coding below this cell uses the history artifacts for analysis. These should remain valid as they will be saved based on the final run of the model.*\n",
    "\n",
    "**In other words, the training model was re-run above to demonstrate the functionality of the code, however, the metrics in the  may not match the analysis below exactly (within a few hundreths), but should be close enough to simulate the values for the initial run through saved in the history.**"
   ]
  },
  {
   "cell_type": "code",
   "execution_count": 15,
   "metadata": {
    "colab": {
     "base_uri": "https://localhost:8080/",
     "height": 53
    },
    "id": "cTlFEqwVjlrr",
    "outputId": "657ce9de-6ed5-4592-f358-4c6aa5e055d6"
   },
   "outputs": [
    {
     "data": {
      "application/vnd.google.colaboratory.intrinsic+json": {
       "type": "string"
      },
      "text/plain": [
       "\"\\n# Saving the trained model\\nmodel.save('/content/drive/MyDrive/Colab_Notebooks/Trained_Sentiment_Model.keras')\\n\\n# Saving the training history\\nwith open('/content/drive/MyDrive/Colab_Notebooks/Sentiment_Model_training_history.json', 'w') as f:\\n    json.dump(history.history, f)\\n\""
      ]
     },
     "execution_count": 15,
     "metadata": {},
     "output_type": "execute_result"
    }
   ],
   "source": [
    "'''\n",
    "# Saving the trained model\n",
    "model.save('/content/drive/MyDrive/Colab_Notebooks/Trained_Sentiment_Model.keras')\n",
    "\n",
    "# Saving the training history\n",
    "with open('/content/drive/MyDrive/Colab_Notebooks/Sentiment_Model_training_history.json', 'w') as f:\n",
    "    json.dump(history.history, f)\n",
    "'''"
   ]
  },
  {
   "cell_type": "code",
   "execution_count": 16,
   "metadata": {
    "id": "tvlYqVT1lJWc"
   },
   "outputs": [],
   "source": [
    "# Loading the Model & History\n",
    "model = load_model('/content/drive/MyDrive/Colab_Notebooks/Trained_Sentiment_Model.keras')\n",
    "with open('/content/drive/MyDrive/Colab_Notebooks/Sentiment_Model_training_history.json', 'r') as f:\n",
    "    history = json.load(f)\n"
   ]
  },
  {
   "cell_type": "markdown",
   "metadata": {
    "id": "k9XHcr9Xlnqk"
   },
   "source": [
    "### D1. Impact of Stopping Criteria  \n",
    "The stopping criteria were critical to ensure the model did not overfit to the training data. After eight epochs of training, the model was paused as it had achieved extremely high accuracy with minimal loss, and further training showed virtually no improvement. The code below pulls the data from the final training epoch, demonstrating the model's performance at the point of stopping.\n"
   ]
  },
  {
   "cell_type": "code",
   "execution_count": 17,
   "metadata": {
    "colab": {
     "base_uri": "https://localhost:8080/",
     "height": 0
    },
    "id": "wmbPmmM_mqLK",
    "outputId": "83cd12c7-8d8a-4d20-db1b-edea9e219877"
   },
   "outputs": [
    {
     "name": "stdout",
     "output_type": "stream",
     "text": [
      "Final Epoch: 8\n",
      "Training Loss: 0.0129\n",
      "Validation Loss: 0.7310\n",
      "Training Accuracy: 0.9975\n",
      "Validation Accuracy: 0.8300\n"
     ]
    }
   ],
   "source": [
    "# Pull final epoch results\n",
    "final_epoch = len(history['loss']) - 1\n",
    "print(f\"Final Epoch: {final_epoch + 1}\")\n",
    "print(f\"Training Loss: {history['loss'][final_epoch]:.4f}\")\n",
    "print(f\"Validation Loss: {history['val_loss'][final_epoch]:.4f}\")\n",
    "print(f\"Training Accuracy: {history['accuracy'][final_epoch]:.4f}\")\n",
    "print(f\"Validation Accuracy: {history['val_accuracy'][final_epoch]:.4f}\")"
   ]
  },
  {
   "cell_type": "markdown",
   "metadata": {
    "id": "tmCkaLgdw-bo"
   },
   "source": []
  },
  {
   "cell_type": "markdown",
   "metadata": {
    "id": "R0Xmn1j-xFf9"
   },
   "source": [
    "### D2. Assess Fitness of Model and Over/Underfitting  \n",
    "The model demonstrated strong fitness during training, achieving a training accuracy of 99.75% and a validation accuracy of 83% by the final epoch. While training loss remained extremely low, the validation loss was notably higher, suggesting the presence of some overfitting. However, early stopping was implemented and triggered after eight epochs, which helped prevent the model from overfitting more severely.\n",
    "\n",
    "Several design choices were made to mitigate the risk of overfitting:\n",
    "* A Dropout layer was included after the LSTM layer, randomly disabling 50% of  neurons during training to reduce reliance on specific neurons and improve generalization.\n",
    "* Early stopping was used to monitor validation loss and halt training once performance stopped improving.\n",
    "* The Embedding layer’s output dimension was reduced to 100 rather than a typical 128 to lower model complexity relative to the small dataset size.\n",
    "\n",
    "Although some overfitting was observed, these mitigation strategies allowed the model to maintain a reasonably strong validation performance without extensive overtraining.\n"
   ]
  },
  {
   "cell_type": "markdown",
   "metadata": {
    "id": "bZeLXie5ptze"
   },
   "source": [
    "### D3. Charting the Model's Training Process"
   ]
  },
  {
   "cell_type": "code",
   "execution_count": 18,
   "metadata": {
    "colab": {
     "base_uri": "https://localhost:8080/",
     "height": 507
    },
    "id": "k6GoLc5Hpr49",
    "outputId": "19bc65bb-0eb7-47ad-8b5a-2f80436597bb"
   },
   "outputs": [
    {
     "data": {
      "image/png": "[encoded data removed]",
      "text/plain": [
       "<Figure size 1400x500 with 2 Axes>"
      ]
     },
     "metadata": {},
     "output_type": "display_data"
    }
   ],
   "source": [
    "# Plotting Accuracy & Loss\n",
    "fig, (ax1, ax2) = plt.subplots(1, 2, figsize=(14,5))\n",
    "fig.patch.set_facecolor('lightgray')\n",
    "\n",
    "# Loss Chart\n",
    "sns.lineplot(x=range(1, len(history['loss']) + 1), y=history['loss'], label='Training Loss', ax=ax1, marker='o')\n",
    "sns.lineplot(x=range(1, len(history['val_loss']) + 1), y=history['val_loss'], label='Validation Loss', ax=ax1, marker='s')\n",
    "ax1.set_xlabel('Epoch')\n",
    "ax1.set_ylabel('Loss')\n",
    "ax1.set_title('Training and Validation Loss')\n",
    "ax1.grid(True)\n",
    "ax1.legend()\n",
    "\n",
    "# Accuracy Chart\n",
    "sns.lineplot(x=range(1, len(history['accuracy']) + 1), y=history['accuracy'], label='Training Accuracy', ax=ax2, marker='o')\n",
    "sns.lineplot(x=range(1, len(history['val_accuracy']) + 1), y=history['val_accuracy'], label='Validation Accuracy', ax=ax2, marker='s')\n",
    "ax2.set_xlabel('Epoch')\n",
    "ax2.set_ylabel('Accuracy')\n",
    "ax2.set_title('Training and Validation Accuracy')\n",
    "ax2.grid(True)\n",
    "ax2.legend()\n",
    "\n",
    "plt.tight_layout()\n",
    "plt.subplots_adjust(wspace=0.2)\n",
    "plt.show()"
   ]
  },
  {
   "cell_type": "markdown",
   "metadata": {
    "id": "mt0f1ks6uG0Y"
   },
   "source": [
    "### D4. Predictive Accuracy of the Model"
   ]
  },
  {
   "cell_type": "code",
   "execution_count": 19,
   "metadata": {
    "colab": {
     "base_uri": "https://localhost:8080/",
     "height": 0
    },
    "id": "mKrZAEDIuQmS",
    "outputId": "8beb6312-a44c-45e4-ba6c-839aeda3a94f"
   },
   "outputs": [
    {
     "name": "stdout",
     "output_type": "stream",
     "text": [
      "\u001b[1m4/4\u001b[0m \u001b[32m━━━━━━━━━━━━━━━━━━━━\u001b[0m\u001b[37m\u001b[0m \u001b[1m1s\u001b[0m 14ms/step - accuracy: 0.8150 - loss: 0.5323 \n",
      "Test Loss: 0.5509\n",
      "Test Accuracy: 0.7900\n"
     ]
    }
   ],
   "source": [
    "# Evaluating the model on the unseent test data\n",
    "test_loss, test_accuracy = model.evaluate(X_test, y_test)\n",
    "\n",
    "print(f\"Test Loss: {test_loss:.4f}\")\n",
    "print(f\"Test Accuracy: {test_accuracy:.4f}\")\n"
   ]
  },
  {
   "cell_type": "markdown",
   "metadata": {
    "id": "u2y4ztPb2YDr"
   },
   "source": [
    "After using the trained model on the unseen data in the test dataset, the model achieved an accuracy of 79% and a test loss of 0.55. These results indicate the model generalized reasonably well beyond the training and validation datasets.  \n",
    "\n",
    "While there was a slight decrease in performance compared to the validation dataset (83% validation accuracy vs 79% test accuracy), this level of variance is expected and reflects natural differences between training data and new, unseen examples. The model correctly classified most reviews, demonstrating strong predictive capabilities relative to the dataset's size and complexity.  \n",
    "\n",
    "The model provides effective sentiment classification with a balanced trade-off between model complexity and predictive accuracy."
   ]
  },
  {
   "cell_type": "markdown",
   "metadata": {
    "id": "goYwFa4e3AVU"
   },
   "source": [
    "### D5. Compliance with AI Global Ethics Standards & Bias Mitigation  \n",
    "In accordance with the OECD AI values-based principles (OECD, 2019), this analysis was conducted with a focus on fairness, transparency, and bias mitigation to comply with global ethical standards for AI. The dataset used for training contained a balanced representation of positive and negative reviews, reducing the risk of class imbalance bias. All data cleaning and preprocessing steps were documented, and care was taken to preserve the original sentiment of the reviews, minimizing opportunities for introducing unintended biases.\n",
    "\n",
    "The data cleaning process avoided aggressive removal of words that could alter sentiment, and standard practices were applied throughout, including the use of the Adam optimizer and binary cross-entropy loss function. Additionally, the model's architecture followed a well-established pattern for LSTM networks, consistent with industry norms and minimizing the likelihood of introducing hidden biases through model design.\n",
    "\n",
    "Finally, potential biases favoring specific language patterns were mitigated by retaining stopwords and preserving full sentence structure, allowing the model to learn from natural language usage without distortion."
   ]
  },
  {
   "cell_type": "markdown",
   "metadata": {
    "id": "9RUyizfhTuu4"
   },
   "source": [
    "# Part 5: Summary and Recommendation  \n",
    "\n",
    "### E. Provide the code used to save the trained model\n",
    "model.save('/content/drive/MyDrive/Colab_Notebooks/Trained_Sentiment_Model.keras')"
   ]
  },
  {
   "cell_type": "markdown",
   "metadata": {
    "id": "5DSb0jhZURv5"
   },
   "source": [
    "### F. Functionality of the model & Impact of Network Architecture Choice  \n",
    "\n",
    "After training, the developed LSTM model achieved a test accuracy of 79% on unseen data, demonstrating a strong level of predictive capability for a first-pass sentiment analysis model. The network architecture was carefully designed to balance model complexity and generalization ability. By incorporating dropout regularization and early stopping, the model effectively minimized overfitting, preserving its ability to generalize to new examples.\n",
    "\n",
    "Using a binary cross entropy loss function combined with a sigmoid activation function in the output layer ensured the model produced well-calibrated probability outputs between 0 and 1, essential for binary classification tasks. Additionally, selecting an LSTM architecture allowed the model to capture critical sequential dependencies in the review text, further enhancing prediction accuracy.\n",
    "\n",
    "The model architecture supported efficient and practical learning, achieving strong performance while utilizing several industry-standard approaches."
   ]
  },
  {
   "cell_type": "markdown",
   "metadata": {
    "id": "zhQt73bOamOk"
   },
   "source": [
    "### G. Recommended Course of Action & Results  \n",
    "Based on the model’s test accuracy of approximately 79%, the LSTM network was able to correctly predict the sentiment of reviews in roughly four out of five cases. This represents a positive outcome for a first iteration model and demonstrates the potential for substantial time and cost savings if deployed at scale compared to a manual review process. For example, Amazon could employ this model to automate the categorization of product reviews, significantly reducing the effort involved in human sentiment assessment.\n",
    "\n",
    "Despite its success, several enhancements could further improve the model’s performance before full deployment. First, the early stopping criteria could be adjusted to trigger sooner — by reducing the patience level — to better prevent overfitting. The loss and accuracy curves demonstrate that training and validation loss began to diverge around the fourth epoch, but training continued until the eighth epoch. Stopping training earlier may have reduced overfitting risk and slightly improved generalization performance.\n",
    "\n",
    "Additionally, the model’s architecture could be fine-tuned. The embedding dimension could be adjusted upward to 128 or downward to 64 to better align with standard powers of two, which may improve the model’s ability to learn richer feature representations. Further hyperparameter tuning, such as adjusting LSTM unit size, dropout rate, or batch size, could also contribute to improving predictive accuracy and reducing overall loss.\n",
    "\n",
    "Overall, the current model provides a strong foundation, and with targeted refinements, its performance could be further optimized for real-world deployment."
   ]
  },
  {
   "cell_type": "markdown",
   "metadata": {
    "id": "EzQQ5Aa-enl-"
   },
   "source": [
    "# Part 6: Sources\n",
    "\n",
    "### Acknowledgement of Code Sources\n",
    "\n",
    "Some logic and analysis were taken from the project created for D604 Task 1 - Neural Networks\n",
    "\n",
    "### Acknowledgement of Sources\n",
    "\n",
    "Singh, M. G. (2023, August 29). To use or lose stop words in NLP. Medium. https://medium.com/@gelsonm/to-use-or-lose-stop-words-in-nlp-de946edaa468\n",
    "\n",
    "OECD. (2019). AI principles. OECD. https://www.oecd.org/en/topics/sub-issues/ai-principles.html\n",
    "\n"
   ]
  }
 ],
 "metadata": {
  "colab": {
   "provenance": []
  },
  "kernelspec": {
   "display_name": "Python 3 (ipykernel)",
   "language": "python",
   "name": "python3"
  },
  "language_info": {
   "codemirror_mode": {
    "name": "ipython",
    "version": 3
   },
   "file_extension": ".py",
   "mimetype": "text/x-python",
   "name": "python",
   "nbconvert_exporter": "python",
   "pygments_lexer": "ipython3",
   "version": "3.12.3"
  }
 },
 "nbformat": 4,
 "nbformat_minor": 4
}
