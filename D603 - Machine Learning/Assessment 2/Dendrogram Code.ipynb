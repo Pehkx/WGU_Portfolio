{
 "cells": [
  {
   "cell_type": "code",
   "execution_count": null,
   "id": "46071186-e130-4639-8b3a-57042524197c",
   "metadata": {},
   "outputs": [],
   "source": [
    "import scipy.cluster.hierarchy as sch\n",
    "import matplotlib.pyplot as plt\n",
    "\n",
    "# Create the dendrogram but only show the last p merges (higher-level structure)\n",
    "plt.figure(figsize=(10, 6))\n",
    "plt.title(\"Truncated Dendrogram for Hierarchical Clustering\")\n",
    "\n",
    "# Linkage matrix should already be computed using:\n",
    "linkage_matrix = sch.linkage(gower_dist, method=\"complete\")\n",
    "\n",
    "# Truncate at p clusters (e.g., 10 or 15)\n",
    "sch.dendrogram(\n",
    "    linkage_matrix,\n",
    "    truncate_mode=\"level\",  # Show only the last p merges\n",
    "    p=10,  # Limits the depth of the dendrogram (adjust for readability)\n",
    "    show_leaf_counts=True  # Show the number of merged points at each step\n",
    ")\n",
    "\n",
    "# Optional: Add a horizontal cut line to suggest an optimal cluster count\n",
    "plt.axhline(y=15, color='r', linestyle='--')\n",
    "\n",
    "plt.show()\n"
   ]
  }
 ],
 "metadata": {
  "kernelspec": {
   "display_name": "Python 3 (ipykernel)",
   "language": "python",
   "name": "python3"
  },
  "language_info": {
   "codemirror_mode": {
    "name": "ipython",
    "version": 3
   },
   "file_extension": ".py",
   "mimetype": "text/x-python",
   "name": "python",
   "nbconvert_exporter": "python",
   "pygments_lexer": "ipython3",
   "version": "3.12.3"
  }
 },
 "nbformat": 4,
 "nbformat_minor": 5
}
