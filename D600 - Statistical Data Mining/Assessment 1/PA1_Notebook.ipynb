{
 "cells": [
  {
   "cell_type": "code",
   "execution_count": null,
   "id": "be282d7b-f066-45bf-a648-a388ca0e87ad",
   "metadata": {},
   "outputs": [],
   "source": [
    "#Importing Relevant Packages\n",
    "##E1 - List the packages or libraries you have chosen for Python or R and justify how each item on the list supports the analysis.\n",
    "import pandas as pd\n",
    "import numpy as np\n",
    "import matplotlib.pyplot as plt #Used for Data Visualizations\n",
    "import seaborn as sns #Used for Data Visualizations\n",
    "import statsmodels.api as sm #Used to create Ordinary Least Squares (OLS) Regression Model\n",
    "import matplotlib.ticker as mticker #Used to properly scale the axes in dataplots\n",
    "from sklearn.model_selection import train_test_split #Used to split the datasets\n",
    "from statsmodels.stats.outliers_influence import variance_inflation_factor #Used to check for multicollinearity in the data models\n",
    "from sklearn.preprocessing import MinMaxScaler #Used for diagnostic test of VIF, scaling the dataframe to solve for Multicollinearity\n",
    "from sklearn.metrics import mean_squared_error #For calculating MSE"
   ]
  },
  {
   "cell_type": "code",
   "execution_count": null,
   "id": "859336ca-7ff6-4ebd-b17b-da5ac1d7a3e1",
   "metadata": {},
   "outputs": [],
   "source": [
    "''' Part 1: Importing file and cleaning the dataset '''"
   ]
  },
  {
   "cell_type": "code",
   "execution_count": null,
   "id": "e557d89b-c2d5-4a79-8edd-4cc6e36740a6",
   "metadata": {},
   "outputs": [],
   "source": [
    "#Loading the dataset and making a copy to retain original dataset separately\n",
    "file_path = 'C:/Users/bconn/OneDrive/Documents/WGUCoursework/7 - D600 - Statistical Data Mining/housing_information_dataset.csv'\n",
    "data = pd.read_csv(file_path)\n",
    "df = data.copy()"
   ]
  },
  {
   "cell_type": "code",
   "execution_count": null,
   "id": "b913163c-2135-4f09-986d-edff2538105f",
   "metadata": {},
   "outputs": [],
   "source": [
    "#Performing some initial profiling for reference\n",
    "df"
   ]
  },
  {
   "cell_type": "code",
   "execution_count": null,
   "id": "5a9c9b61-76c7-4fd4-a933-9abfac7bd7cf",
   "metadata": {},
   "outputs": [],
   "source": [
    "df.info()\n",
    "## No null values noted"
   ]
  },
  {
   "cell_type": "code",
   "execution_count": null,
   "id": "72c5f6bf-3316-4be3-b75e-d03f1f9a34ed",
   "metadata": {},
   "outputs": [],
   "source": [
    "##All data cleaning steps\n",
    "#Renaming headers to python conventions\n",
    "python_headers = ['id', 'price', 'square_footage', 'num_bathrooms', 'num_bedrooms', 'backyard_space', 'crime_rate', 'school_rating', 'age_of_home', 'distance_to_city_center', 'employment_rate', 'property_tax_rate', 'renovation_quality', 'local_amenities', 'transport_access', 'fireplace', 'house_color', 'garage', 'floors', 'windows', 'previous_sale_price', 'is_luxury']\n",
    "df.columns = python_headers\n",
    "#Rounding price and previous_sale_price to the nearest dollar and saving as int64\n",
    "df['price'] = df['price'].round(1).astype('int64')\n",
    "df['previous_sale_price'] = df['previous_sale_price'].round(1).astype('int64')\n",
    "#Rounding bathroom to nearest half\n",
    "def round_to_half(x):\n",
    "    return round(x *2) / 2\n",
    "df['num_bathrooms'] = [round_to_half(x) for x in df['num_bathrooms']]\n",
    "#Changing the negative values for windows and previous_sale_price to their positive values, as negative values are impossible\n",
    "df['windows'] = df['windows'].abs()\n",
    "df['previous_sale_price'] = df['previous_sale_price'].abs()\n",
    "#Remapping all Yes/No values to 1 and 0\n",
    "bool_map = {\"Yes\" : 1, \"No\" : 0}\n",
    "df['fireplace'] = df['fireplace'].map(bool_map).fillna(df['fireplace'])\n",
    "df['garage'] = df['garage'].map(bool_map).fillna(df['garage'])"
   ]
  },
  {
   "cell_type": "code",
   "execution_count": null,
   "id": "872d672e-4558-44e9-a393-5a55895e289a",
   "metadata": {},
   "outputs": [],
   "source": [
    "#Confirming data cleaning steps worked\n",
    "df.info()\n",
    "## Header format confirmed,fireplace and garage are now boolean values and saved as 1 and 0"
   ]
  },
  {
   "cell_type": "code",
   "execution_count": null,
   "id": "9f16fc4b-c2f5-4a20-9f99-4ef7017503e6",
   "metadata": {},
   "outputs": [],
   "source": [
    "''' Part 2: Variable Description and Statistics Visualizations '''\n",
    "#Utilizing price as the dependant variable, and square_footage, num_bedrooms, crime_rate, fireplace, house_color and garage as independent variables\n",
    "##C1 - Identify the dependent and all independent variables that are required to answer the research question and justify your selection of variables."
   ]
  },
  {
   "cell_type": "code",
   "execution_count": null,
   "id": "9a0541b1-6097-4f0b-85b0-b538c797c046",
   "metadata": {},
   "outputs": [],
   "source": [
    "#Variable Descriptions\n",
    "## C2 - Describe the dependent variable and all independent variables from part C1 using descriptive statistics (counts, means, modes, ranges, min/max), including a screenshot of the descriptive statistics output for each of these variables.\n",
    "print('Descriptive Statistics\\n')\n",
    "print('\\nQuantitative Variables\\n')#Showing Mean, Standard Deviation, and 5-number summaries\n",
    "print('Price')\n",
    "print(df['price'].describe().apply(\n",
    "    lambda x: np.format_float_positional(x, precision=2, trim='-')))#Coverting to actual values as scientific notation was more difficult to read\n",
    "print('\\nSquare Footage')\n",
    "print(df['square_footage'].describe())\n",
    "print('\\nNumber of Bedrooms')\n",
    "print(df['num_bedrooms'].describe())\n",
    "print('\\nCrime Rate')\n",
    "print(df['crime_rate'].describe())\n",
    "print('\\n\\nQualitative Variables\\n')#Showing frequencies in descending order\n",
    "print(df['fireplace'].value_counts())\n",
    "print('\\n')\n",
    "print(df['house_color'].value_counts())\n",
    "print('\\n')\n",
    "print(df['garage'].value_counts())"
   ]
  },
  {
   "cell_type": "code",
   "execution_count": null,
   "id": "e91a2583-4792-403d-9642-183b34c85b32",
   "metadata": {},
   "outputs": [],
   "source": [
    "#Visualizations\n",
    "## C3 - Generate univariate and bivariate visualizations of the distributions of the dependent and independent variables from part C1, including the dependent variable in the bivariate visualizations.\n",
    "\n",
    "#Price - Dependant Variable\n",
    "##Univariate Analysis\n",
    "plt.figure(figsize = [16,5])\n",
    "plt.title(\"Price of Houses\")\n",
    "bins = np.arange(85000, 1050000,50000)\n",
    "plt.hist(data=df, x='price', bins=bins, edgecolor='black', density=False)\n",
    "plt.gca().xaxis.set_major_formatter(mticker.StrMethodFormatter('{x:,.0f}'))\n",
    "plt.xlabel(\"Value of Houses\")\n",
    "plt.ylabel(\"Frequency\");"
   ]
  },
  {
   "cell_type": "code",
   "execution_count": null,
   "id": "7736e003-c7dd-4880-9eb4-f7d7efa9b1ac",
   "metadata": {},
   "outputs": [],
   "source": [
    "#Square Footage - Independent Variable\n",
    "##Univariate and Bivariate Analysis\n",
    "plt.figure(figsize = [16,5])\n",
    "plt.suptitle(\"Exploration of Square Footage of the Household\")\n",
    "\n",
    "#Left Plot: Univariate exploration of square_footage\n",
    "plt.subplot (1, 2, 1)\n",
    "plt.title(\"Square Footage\")\n",
    "bins = np.arange(500, 2900, 125)\n",
    "plt.hist(data=df, x='square_footage', bins=bins, edgecolor='black', density=False)\n",
    "plt.xlabel(\"Square Footage\")\n",
    "plt.ylabel(\"Frequency\")\n",
    "\n",
    "#Right Plot: Bivariate exploration of square_footage vs price\n",
    "plt.subplot(1, 2, 2)\n",
    "plt.title(\"Square Footage vs. Price of Houses\")\n",
    "sns.regplot(data=df, x=\"square_footage\", y=\"price\",scatter_kws={'alpha' :1/10}, line_kws={'color': 'black'})\n",
    "plt.gca().yaxis.set_major_formatter(mticker.StrMethodFormatter('{x:,.0f}'))\n",
    "plt.xlabel(\"Square Footage\")\n",
    "plt.ylabel(\"Price\");\n",
    "\n"
   ]
  },
  {
   "cell_type": "code",
   "execution_count": null,
   "id": "c2529938-1c0d-43a1-98dc-8f467f0fbd14",
   "metadata": {},
   "outputs": [],
   "source": [
    "#Number of Bedrooms - Independent Variable\n",
    "##Univariate and Bivariate Analysis\n",
    "plt.figure(figsize = [16,5])\n",
    "plt.suptitle(\"Exploration of Number of Bedrooms\")\n",
    "\n",
    "#Left Plot: Univariate exploration of num_bedrooms\n",
    "plt.subplot(1, 2, 1)\n",
    "plt.title(\"Number of Bedrooms\")\n",
    "bins = np.arange(1, 8, 1)\n",
    "plt.hist(data=df, x='num_bedrooms', bins=bins, edgecolor='black', density=False)\n",
    "plt.xlabel(\"Number of Bedrooms\")\n",
    "plt.ylabel(\"Frequency\")\n",
    "\n",
    "#Right Plot: Bivariate exploration of num_bedrooms vs price\n",
    "plt.subplot(1, 2, 2)\n",
    "plt.title(\"Number of Bedrooms vs. Price of Houses\")\n",
    "sns.violinplot(data=df, x=\"num_bedrooms\", y=\"price\")\n",
    "plt.gca().yaxis.set_major_formatter(mticker.StrMethodFormatter('{x:,.0f}'))\n",
    "plt.xlabel(\"Number of Bedrooms\")\n",
    "plt.ylabel(\"Price\");"
   ]
  },
  {
   "cell_type": "code",
   "execution_count": null,
   "id": "6fe635c4-12e4-448c-afdb-a9eb21667a8d",
   "metadata": {},
   "outputs": [],
   "source": [
    "#Demonstrating that the horizontal line for 7 bedrooms is due to low response value\n",
    "df['num_bedrooms'].value_counts()\n",
    "## "
   ]
  },
  {
   "cell_type": "code",
   "execution_count": null,
   "id": "93b414b1-27cb-40c0-8cc0-3c25138b4a8b",
   "metadata": {},
   "outputs": [],
   "source": [
    "#Crime Rate - Independent Variable\n",
    "##Univariate exploration of crime_rate\n",
    "plt.figure(figsize = [16,5])\n",
    "plt.title(\"Crime Rate\")\n",
    "bins = np.arange(0, 100, 5)\n",
    "plt.hist(data=df, x='crime_rate', bins=bins, edgecolor='black', density=False)\n",
    "plt.xlabel(\"Crime Rate\")\n",
    "plt.ylabel(\"Frequency\");"
   ]
  },
  {
   "cell_type": "code",
   "execution_count": null,
   "id": "7ad5dfda-76fe-4c43-932f-eaaaa1b662f2",
   "metadata": {},
   "outputs": [],
   "source": [
    "#Crime Rate - Independent Variable\n",
    "##Bivariate exploration of crime_rate vs price\n",
    "plt.figure(figsize = [16,5])\n",
    "plt.title(\"Crime Rate vs. Price of Houses\")\n",
    "sns.regplot(data=df, x=\"crime_rate\", y=\"price\",scatter_kws={'alpha' :1/10}, line_kws={'color': 'black'})\n",
    "plt.gca().yaxis.set_major_formatter(mticker.StrMethodFormatter('{x:,.0f}'))\n",
    "plt.xlabel(\"Crime Rate\")\n",
    "plt.ylabel(\"Price\");\n"
   ]
  },
  {
   "cell_type": "code",
   "execution_count": null,
   "id": "8d247259-ce42-417d-81aa-35f89ec794e6",
   "metadata": {},
   "outputs": [],
   "source": [
    "#Has a Fireplace - Independent Variable\n",
    "##Univariate and Bivariate Analysis\n",
    "plt.figure(figsize = [16,5])\n",
    "plt.suptitle(\"Exploration of Presence of Fireplace\")\n",
    "\n",
    "#Left Plot: Univariate Analysis of fireplace\n",
    "plt.subplot(1, 2, 1)\n",
    "plt.title(\"Has a Fireplace\")\n",
    "counts = df['fireplace'].value_counts()\n",
    "categories = ['Yes', 'No']\n",
    "counts = counts.sort_index()\n",
    "bars = plt.bar(categories, counts, color=['skyblue', 'salmon'], edgecolor='black')\n",
    "for bar in bars:\n",
    "    yval = bar.get_height() \n",
    "    plt.text(bar.get_x() + bar.get_width() / 2, yval + 0.5, \n",
    "             f'{int(yval)}', ha='center', va='bottom')\n",
    "plt.xlabel(\"Fireplace Present\")\n",
    "plt.ylabel(\"Count\")\n",
    "\n",
    "#Right Plot: Bivariate Analysis of fireplace vs price\n",
    "plt.subplot(1, 2, 2)\n",
    "plt.title(\"Has a Fireplace\")\n",
    "sns.boxplot(data=df, x=\"fireplace\", y=\"price\")\n",
    "plt.xticks([0, 1], ['No', 'Yes'])\n",
    "plt.gca().yaxis.set_major_formatter(mticker.StrMethodFormatter('{x:,.0f}'))\n",
    "plt.xlabel(\"Fireplace Present\")\n",
    "plt.ylabel(\"Price\");"
   ]
  },
  {
   "cell_type": "code",
   "execution_count": null,
   "id": "b952c7ae-748a-44aa-90a4-f41dbb3f525c",
   "metadata": {},
   "outputs": [],
   "source": [
    "#Has a Garage - Independent Variable\n",
    "##Univariate and Bivariate Analysis\n",
    "plt.figure(figsize = [16,5])\n",
    "plt.suptitle(\"Exploration of Presence of Garage\")\n",
    "\n",
    "#Left Plot: Univariate Analysis of fireplace\n",
    "plt.subplot(1, 2, 1)\n",
    "plt.title(\"Has a Garage\")\n",
    "counts = df['garage'].value_counts()\n",
    "categories = ['Yes', 'No']\n",
    "counts = counts.sort_index()\n",
    "bars = plt.bar(categories, counts, color=['skyblue', 'salmon'], edgecolor='black')\n",
    "for bar in bars:\n",
    "    yval = bar.get_height() \n",
    "    plt.text(bar.get_x() + bar.get_width() / 2, yval + 0.5, \n",
    "             f'{int(yval)}', ha='center', va='bottom')\n",
    "plt.xlabel(\"Garage Present\")\n",
    "plt.ylabel(\"Count\")\n",
    "\n",
    "#Right Plot: Bivariate Analysis of garage vs price\n",
    "plt.subplot(1, 2, 2)\n",
    "plt.title(\"Has a Garage\")\n",
    "sns.boxplot(data=df, x=\"garage\", y=\"price\")\n",
    "plt.xticks([0, 1], ['No', 'Yes'])\n",
    "plt.gca().yaxis.set_major_formatter(mticker.StrMethodFormatter('{x:,.0f}'))\n",
    "plt.xlabel(\"Garage Present\")\n",
    "plt.ylabel(\"Price\");"
   ]
  },
  {
   "cell_type": "code",
   "execution_count": null,
   "id": "4b5e9675-a62d-4346-b439-c484040b410c",
   "metadata": {},
   "outputs": [],
   "source": [
    "#House Color - Independent Variable\n",
    "##Univariate Analysis of house_color\n",
    "plt.figure(figsize=[16,5])\n",
    "plt.title(\"House Color\")\n",
    "counts = df['house_color'].value_counts()\n",
    "categories = [\"White\", \"Yellow\", \"Blue\", \"Green\", \"Red\"]\n",
    "bars = plt.bar(categories, counts, color=[\"white\", \"yellow\", \"blue\", \"green\", \"red\"], edgecolor='black')\n",
    "for bar in bars:\n",
    "    yval = bar.get_height() \n",
    "    plt.text(bar.get_x() + bar.get_width() / 2, yval + 0.5, \n",
    "             f'{int(yval)}', ha='center', va='bottom')\n",
    "plt.xlabel(\"House Color\")\n",
    "plt.ylabel(\"Count\");"
   ]
  },
  {
   "cell_type": "code",
   "execution_count": null,
   "id": "75a3c344-8c32-49e8-a509-6c829a856725",
   "metadata": {},
   "outputs": [],
   "source": [
    "#House Color - Independent Variable\n",
    "##Bivariate Analysis of house_color vs price\n",
    "\n",
    "plt.figure(figsize=[16,5])\n",
    "plt.title(\"House Color\")\n",
    "sns.boxplot(data=df, x=\"house_color\", y=\"price\", hue=\"house_color\", palette=['blue', 'green', 'red', 'white', 'yellow'],legend=False)\n",
    "plt.gca().yaxis.set_major_formatter(mticker.StrMethodFormatter('{x:,.0f}'))\n",
    "plt.xlabel(\"House Color\")\n",
    "plt.ylabel(\"Price\");\n"
   ]
  },
  {
   "cell_type": "code",
   "execution_count": null,
   "id": "8beeb3dd-12af-4af6-9c37-8f3252972624",
   "metadata": {},
   "outputs": [],
   "source": [
    "#Performing one-hot encoding\n",
    "df_encoded = pd.get_dummies(df, columns=['house_color'], drop_first=True)\n",
    "\n",
    "print(df_encoded)"
   ]
  },
  {
   "cell_type": "code",
   "execution_count": null,
   "id": "11c9965a-af4e-4542-aeb2-12aade821bcf",
   "metadata": {},
   "outputs": [],
   "source": [
    "#Converting one-hot-encoding columns from boolean values to binary integers\n",
    "one_hot_columns = ['house_color_Green', 'house_color_Red', 'house_color_White', 'house_color_Yellow']\n",
    "df_encoded[one_hot_columns] = df_encoded[one_hot_columns].astype(int)\n",
    "print(df_encoded[one_hot_columns].head()) #Confirming the change worked"
   ]
  },
  {
   "cell_type": "code",
   "execution_count": null,
   "id": "cb1b007c-ffee-488b-93ee-344ebb6a3a81",
   "metadata": {},
   "outputs": [],
   "source": [
    "''' Part 3: Model creation and optimization '''"
   ]
  },
  {
   "cell_type": "code",
   "execution_count": null,
   "id": "4938bb8c-867d-4811-8ec8-b0e38484324f",
   "metadata": {
    "scrolled": true
   },
   "outputs": [],
   "source": [
    "#Splitting the Dataset into Test and Training\n",
    "## D1 - Split the data into two datasets, with a larger percentage assigned to the training dataset and a smaller percentage assigned to the test data set. Provide the files.\n",
    "y = df_encoded.price\n",
    "X = df_encoded[['square_footage', 'num_bedrooms', 'crime_rate', 'fireplace', 'house_color_Green', 'house_color_Red', 'house_color_White', 'house_color_Yellow', 'garage']].assign(const=1)\n",
    "\n",
    "#Splitting the Dataset into a Test and Training dataset with an 80/20 split\n",
    "X_train, X_test, y_train, y_test = train_test_split(X, y, test_size=0.2, random_state=42)\n",
    "y_train = y_train.to_frame() #Converting to dataframe for ease in exporting\n",
    "y_test = y_test.to_frame()\n",
    "print(f\"Training data: {X_train.shape}, Testing data: {X_test.shape}\")\n",
    "print(f\"Training labels: {y_train.shape}, Testing labels: {y_test.shape}\")\n",
    "\n"
   ]
  },
  {
   "cell_type": "code",
   "execution_count": null,
   "id": "123b2bd0-a5c0-4483-9e66-34a46a065c90",
   "metadata": {},
   "outputs": [],
   "source": [
    "#Combining the datasets for exporting\n",
    "train_data = pd.concat([X_train, y_train], axis=1)\n",
    "test_data = pd.concat([X_test, y_test], axis=1)\n"
   ]
  },
  {
   "cell_type": "code",
   "execution_count": null,
   "id": "318db9c1-bb11-4996-ab51-0a8323373b45",
   "metadata": {},
   "outputs": [],
   "source": [
    "#Exporting the Test & Train Datasets to share\n",
    "train_data.to_csv(\"training_data\", index=False)\n",
    "test_data.to_csv(\"test_data\", index=False)"
   ]
  },
  {
   "cell_type": "code",
   "execution_count": null,
   "id": "d7a7ed91-cfb4-42fb-a380-03cd6835236e",
   "metadata": {},
   "outputs": [],
   "source": [
    "#Initial Multiple Regression Model\n",
    "##D2 -  Use the training dataset to create and perform a regression model using regression as a statistical method. Optimize the regression model using a process of your selection. \n",
    "##Also checking for Multicollinearity\n",
    "model = sm.OLS(y_train, X_train)\n",
    "results = model.fit()\n",
    "print(results.summary())"
   ]
  },
  {
   "cell_type": "code",
   "execution_count": null,
   "id": "6ab224f5-faf8-4ed8-b1e4-5d3279e76c21",
   "metadata": {},
   "outputs": [],
   "source": [
    "#Checking for multicolinearity using the Variance Inflation Factor (VIF)\n",
    "X_train = X_train[['square_footage', 'num_bedrooms', 'crime_rate', 'fireplace', 'house_color_Green', 'house_color_Red', 'house_color_White', 'house_color_Yellow', 'garage']]\n",
    "\n",
    "vif_df = pd.DataFrame()\n",
    "vif_df[\"feature\"] = X_train.columns\n",
    "\n",
    "vif_df[\"VIF\"] = [variance_inflation_factor(X_train.values, i)\n",
    "                 for i in range (len(X_train.columns))]\n",
    "\n",
    "print(vif_df)\n",
    "##No VIF was greater than 6.4"
   ]
  },
  {
   "cell_type": "code",
   "execution_count": null,
   "id": "8217d4e0-e308-4bdf-9206-369d832e1908",
   "metadata": {},
   "outputs": [],
   "source": [
    "#Testing variables in a correlation matrix to identify strength of correlations\n",
    "correlation_matrix = X_train.corr()\n",
    "print(correlation_matrix)"
   ]
  },
  {
   "cell_type": "code",
   "execution_count": null,
   "id": "1c48f6c1-4d02-4d6d-a540-9bec7c3b24d8",
   "metadata": {},
   "outputs": [],
   "source": [
    "#Initiating Backwards Stepwise Elimination\n",
    "#Step 1 - Removing garage as it has a p-value of .809\n",
    "X_train = X_train[['square_footage', 'num_bedrooms', 'crime_rate', 'fireplace', 'house_color_Green', 'house_color_Red', 'house_color_White', 'house_color_Yellow']].assign(const=1)\n",
    "model = sm.OLS(y_train, X_train)\n",
    "results = model.fit()\n",
    "print(results.summary())"
   ]
  },
  {
   "cell_type": "code",
   "execution_count": null,
   "id": "dbeadff1-da0f-4c60-ab17-49e118eb920f",
   "metadata": {},
   "outputs": [],
   "source": [
    "#Step 2 - Removing house_color_Yellow as it has a p-value of .829\n",
    "X_train = X_train[['square_footage', 'num_bedrooms', 'crime_rate', 'fireplace', 'house_color_Green', 'house_color_Red', 'house_color_White']].assign(const=1)\n",
    "model = sm.OLS(y_train, X_train)\n",
    "results = model.fit()\n",
    "print(results.summary())"
   ]
  },
  {
   "cell_type": "code",
   "execution_count": null,
   "id": "981f8813-a5eb-45e9-b03a-d040e8f1d2f4",
   "metadata": {},
   "outputs": [],
   "source": [
    "#Step 3 - Removing house_color_Red as it has a p-value of .522\n",
    "X_train = X_train[['square_footage', 'num_bedrooms', 'crime_rate', 'fireplace', 'house_color_Green', 'house_color_White']].assign(const=1)\n",
    "model = sm.OLS(y_train, X_train)\n",
    "results = model.fit()\n",
    "print(results.summary())"
   ]
  },
  {
   "cell_type": "code",
   "execution_count": null,
   "id": "36a1ee15-2eb3-4fe2-a23d-bdbeff1e01a2",
   "metadata": {},
   "outputs": [],
   "source": [
    "#Step 4 - Removing house_color_Green as it has a p-value of .319\n",
    "X_train = X_train[['square_footage', 'num_bedrooms', 'crime_rate', 'fireplace', 'house_color_White']].assign(const=1)\n",
    "model = sm.OLS(y_train, X_train)\n",
    "results = model.fit()\n",
    "print(results.summary())"
   ]
  },
  {
   "cell_type": "code",
   "execution_count": null,
   "id": "f4224723-f48a-4558-8d88-11db6be1c044",
   "metadata": {},
   "outputs": [],
   "source": [
    "#Step 5 - Removing fireplace as it has a p-value of .326\n",
    "X_train = X_train[['square_footage', 'num_bedrooms', 'crime_rate', 'house_color_White']].assign(const=1)\n",
    "model = sm.OLS(y_train, X_train)\n",
    "results = model.fit()\n",
    "print(results.summary())"
   ]
  },
  {
   "cell_type": "code",
   "execution_count": null,
   "id": "47d5cc6f-e0db-453d-9110-73dfb4df049d",
   "metadata": {},
   "outputs": [],
   "source": [
    "#Scaling the training dataset separately to further demonstrate multicollinearity is not a concern. \n",
    "#Note - the scaled values will not be used for the final model\n",
    "scaler = MinMaxScaler()\n",
    "reg_df_minmax = pd.DataFrame(scaler.fit_transform(X_train), columns=X_train.columns, index=X_train.index)\n",
    "\n",
    "X = reg_df_minmax[['square_footage', 'num_bedrooms', 'crime_rate', 'house_color_White']].assign(const=1)\n",
    "model = sm.OLS(y_train, X)\n",
    "results = model.fit()\n",
    "print(results.summary())\n",
    "\n",
    "#Cond. No. has dropped down to 7.37"
   ]
  },
  {
   "cell_type": "code",
   "execution_count": null,
   "id": "e0ae14c6-83da-40ba-be3e-8f253f1dac5e",
   "metadata": {},
   "outputs": [],
   "source": [
    "#Final data model\n",
    "X_train = X_train[['square_footage', 'num_bedrooms', 'crime_rate', 'house_color_White']].assign(const=1)\n",
    "model = sm.OLS(y_train, X_train)\n",
    "results = model.fit()\n",
    "print(results.summary())"
   ]
  },
  {
   "cell_type": "code",
   "execution_count": null,
   "id": "d6e14b47-1b03-405f-a819-4c2be29d2754",
   "metadata": {},
   "outputs": [],
   "source": [
    "''' Part 4: Results and recommendations '''"
   ]
  },
  {
   "cell_type": "code",
   "execution_count": null,
   "id": "2c7bc5c7-9474-47ed-9710-b48a44a19907",
   "metadata": {},
   "outputs": [],
   "source": [
    "#Calculating Mean Squared Error for the Training Dataset\n",
    "##D3 - Give the mean squared error (MSE) of the optimized model used on the training set.\n",
    "model = sm.OLS(y_train, X_train).fit()\n",
    "y_pred = model.predict(X_train)\n",
    "mse_train = mean_squared_error(y_train, y_pred)\n",
    "print (\"Mean Squared Error (MSE) - Training Dataset:\", mse_train)"
   ]
  },
  {
   "cell_type": "code",
   "execution_count": null,
   "id": "ff8e0d65-fdad-48c1-92ca-872f7752a5e3",
   "metadata": {},
   "outputs": [],
   "source": [
    "#Checking Residuals to ensure close to normal distribution\n",
    "residuals = results.resid\n",
    "sns.histplot(residuals, kde=True)\n",
    "plt.title(\"Residuals Distribution\")\n",
    "plt.show()\n",
    "##Skewed Right slightly - close to normal distribution"
   ]
  },
  {
   "cell_type": "code",
   "execution_count": null,
   "id": "501cdd84-d8b7-4985-ab51-c4244d6da2fd",
   "metadata": {},
   "outputs": [],
   "source": [
    "#Running the optimized model on the test data set\n",
    "##D4 - Run the prediction on the test dataset using the optimized regression model from part D2 to give the accuracy of the prediction model based on the mean squared error (MSE).\n",
    "'''\n",
    "X_test = X_test[['square_footage', 'num_bedrooms', 'crime_rate', 'house_color_White']].assign(const=1)\n",
    "model = sm.OLS(y_test, X_test)\n",
    "results = model.fit()\n",
    "print(results.summary())\n",
    "'''\n"
   ]
  },
  {
   "cell_type": "code",
   "execution_count": null,
   "id": "cc29115f-ec86-4b36-a230-d3e76ca64547",
   "metadata": {},
   "outputs": [],
   "source": [
    "X_train = X_train[['square_footage', 'num_bedrooms', 'crime_rate', 'house_color_White']].assign(const=1)\n",
    "final_model = sm.OLS(y_train, X_train).fit() "
   ]
  },
  {
   "cell_type": "code",
   "execution_count": null,
   "id": "20dfd5c6-d925-4051-862d-ce9279143233",
   "metadata": {},
   "outputs": [],
   "source": [
    "# Prepare test data (must match the features used in training)\n",
    "X_test = X_test[['square_footage', 'num_bedrooms', 'crime_rate', 'house_color_White']].assign(const=1)\n",
    "\n",
    "# Use the trained model to predict test set values (NO re-training!)\n",
    "y_pred = final_model.predict(X_test)  # ✅ Use the trained model\n",
    "\n",
    "# Print the model summary (trained on training data only)\n",
    "print(final_model.summary())"
   ]
  },
  {
   "cell_type": "code",
   "execution_count": null,
   "id": "27b9ab38-2e4b-4178-8293-197e836e8513",
   "metadata": {},
   "outputs": [],
   "source": [
    "#Calculating Mean Squared Error for the Test Dataset\n",
    "model = sm.OLS(y_test, X_test.assign(const=1).fit()\n",
    "y_pred = model.predict(X_test)\n",
    "mse_test = mean_squared_error(y_test, y_pred)\n",
    "print (\"Mean Squared Error (MSE) - Test Dataset:\", mse_test)"
   ]
  },
  {
   "cell_type": "code",
   "execution_count": null,
   "id": "32a5bfbc-e35d-4506-a734-095d82abd742",
   "metadata": {},
   "outputs": [],
   "source": [
    "#Checking Residuals to ensure close to normal distribution\n",
    "residuals = results.resid\n",
    "sns.histplot(residuals, kde=True)\n",
    "plt.title(\"Residuals Distribution\")\n",
    "plt.show()\n",
    "##Skewed Right slightly - close to normal distribution"
   ]
  },
  {
   "cell_type": "code",
   "execution_count": null,
   "id": "861c137a-ae45-4a5c-8199-1139ee51d051",
   "metadata": {},
   "outputs": [],
   "source": [
    "#Comparing both MSE\n",
    "print (\"Mean Squared Error (MSE) - Training Dataset:\", mse_train)\n",
    "print (\"Mean Squared Error (MSE) - Test Dataset:\", mse_test)"
   ]
  },
  {
   "cell_type": "code",
   "execution_count": null,
   "id": "13d51576-446c-4fd2-83a3-de4eaa594cdb",
   "metadata": {},
   "outputs": [],
   "source": [
    "#Validating results by calculating Root Mean Squared Error (RMSE)\n",
    "training_rmse = np.sqrt(12013060202.521719)\n",
    "test_rmse = np.sqrt(11681955037.764385)\n",
    "\n",
    "print(\"Training RMSE:\", training_rmse)\n",
    "print(\"Test RMSE:\", test_rmse)\n",
    "print(\"Mean housing Price:\", df[\"price\"].mean())\n",
    "##The model's predictions are off by a significant amount, so it would be optimal to re-work it and pull in additional variables in order to accurately predict."
   ]
  }
 ],
 "metadata": {
  "kernelspec": {
   "display_name": "Python 3 (ipykernel)",
   "language": "python",
   "name": "python3"
  },
  "language_info": {
   "codemirror_mode": {
    "name": "ipython",
    "version": 3
   },
   "file_extension": ".py",
   "mimetype": "text/x-python",
   "name": "python",
   "nbconvert_exporter": "python",
   "pygments_lexer": "ipython3",
   "version": "3.12.3"
  }
 },
 "nbformat": 4,
 "nbformat_minor": 5
}
